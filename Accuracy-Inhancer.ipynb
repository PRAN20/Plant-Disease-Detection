{
  "nbformat": 4,
  "nbformat_minor": 0,
  "metadata": {
    "colab": {
      "name": "All-Classification-Model.ipynb",
      "provenance": [],
      "collapsed_sections": [
        "6kONjXycL46I",
        "R_u7YGrWMPdt",
        "k0qkbkiFVGVS",
        "zoc9oVerXwxN",
        "bC4Hdr-BYOUd",
        "5fXcMm-_ZgDd",
        "a50Vdm7zaPfu",
        "k2Gs3nfUeH6e",
        "769KZo9tfKwT",
        "SE6FCEdufxDB"
      ],
      "mount_file_id": "1Dhqnz5OqtwbqDWVZYqRQbu_mAyU30-Mm",
      "authorship_tag": "ABX9TyMDb88DaXmWjK4+a5r3fw6W",
      "include_colab_link": true
    },
    "kernelspec": {
      "name": "python3",
      "display_name": "Python 3"
    },
    "language_info": {
      "name": "python"
    }
  },
  "cells": [
    {
      "cell_type": "markdown",
      "metadata": {
        "id": "view-in-github",
        "colab_type": "text"
      },
      "source": [
        "<a href=\"https://colab.research.google.com/github/PRAN20/Plant-Disease-Detection/blob/main/Accuracy-Inhancer.ipynb\" target=\"_parent\"><img src=\"https://colab.research.google.com/assets/colab-badge.svg\" alt=\"Open In Colab\"/></a>"
      ]
    },
    {
      "cell_type": "markdown",
      "source": [
        "# **Calculating Accuracy by Using Different Classification**"
      ],
      "metadata": {
        "id": "4m4zz4fayu1A"
      }
    },
    {
      "cell_type": "markdown",
      "source": [
        "# **Importing Header Files**"
      ],
      "metadata": {
        "id": "6kONjXycL46I"
      }
    },
    {
      "cell_type": "code",
      "execution_count": null,
      "metadata": {
        "id": "GkgEbfzqL3vE"
      },
      "outputs": [],
      "source": [
        "import pandas as ps\n",
        "import numpy as np\n",
        "import matplotlib.pyplot as plt\n",
        "import os"
      ]
    },
    {
      "cell_type": "markdown",
      "source": [
        "# **Importing DataSet**"
      ],
      "metadata": {
        "id": "R_u7YGrWMPdt"
      }
    },
    {
      "cell_type": "code",
      "source": [
        "from google.colab import drive\n",
        "drive.mount('/content/drive')"
      ],
      "metadata": {
        "colab": {
          "base_uri": "https://localhost:8080/"
        },
        "id": "KOoJEw5wPW10",
        "outputId": "842409e1-1de4-445b-f2b2-edb979413c6a"
      },
      "execution_count": null,
      "outputs": [
        {
          "output_type": "stream",
          "name": "stdout",
          "text": [
            "Drive already mounted at /content/drive; to attempt to forcibly remount, call drive.mount(\"/content/drive\", force_remount=True).\n"
          ]
        }
      ]
    },
    {
      "cell_type": "code",
      "source": [
        "#os.makedirs('dataset')"
      ],
      "metadata": {
        "id": "ERRfD0VRWptc"
      },
      "execution_count": null,
      "outputs": []
    },
    {
      "cell_type": "code",
      "source": [
        "!unzip \"/content/drive/MyDrive/AlexNet-read.zip\" -d \"dataset\""
      ],
      "metadata": {
        "colab": {
          "base_uri": "https://localhost:8080/"
        },
        "id": "hO9OBgBfPdsG",
        "outputId": "2796f9cc-61a7-45e5-830e-640932e69e70"
      },
      "execution_count": null,
      "outputs": [
        {
          "output_type": "stream",
          "name": "stdout",
          "text": [
            "Archive:  /content/drive/MyDrive/AlexNet-read.zip\n",
            " extracting: dataset/content/CSV-FILES/X_test.csv  \n",
            " extracting: dataset/content/CSV-FILES/X_train.csv  \n",
            " extracting: dataset/content/CSV-FILES/y_test.csv  \n",
            " extracting: dataset/content/CSV-FILES/y_train.csv  \n"
          ]
        }
      ]
    },
    {
      "cell_type": "code",
      "source": [
        "import pandas as pd\n",
        "train_images=pd.read_csv(\"/content/dataset/content/CSV-FILES/X_train.csv\",header=None)\n",
        "x_train=train_images.iloc[:,:].values\n",
        "x_train.shape"
      ],
      "metadata": {
        "colab": {
          "base_uri": "https://localhost:8080/"
        },
        "id": "H6DW32UL-GGT",
        "outputId": "4f657d0a-1020-42f5-979d-bddf0be0f9a3"
      },
      "execution_count": null,
      "outputs": [
        {
          "output_type": "execute_result",
          "data": {
            "text/plain": [
              "(8751, 1000)"
            ]
          },
          "metadata": {},
          "execution_count": 31
        }
      ]
    },
    {
      "cell_type": "code",
      "source": [
        "train_labels=pd.read_csv(\"/content/dataset/content/CSV-FILES/y_train.csv\",header=None)\n",
        "y_train=train_labels.iloc[:,:].values\n",
        "y_train= y_train.flatten()\n",
        "y_train.shape"
      ],
      "metadata": {
        "colab": {
          "base_uri": "https://localhost:8080/"
        },
        "id": "2Fk0HwNu-RfE",
        "outputId": "c7fabf65-5390-4d55-9d03-b473695feedb"
      },
      "execution_count": null,
      "outputs": [
        {
          "output_type": "execute_result",
          "data": {
            "text/plain": [
              "(8751,)"
            ]
          },
          "metadata": {},
          "execution_count": 32
        }
      ]
    },
    {
      "cell_type": "code",
      "source": [
        "import pandas as pd\n",
        "test_images=pd.read_csv(\"/content/dataset/content/CSV-FILES/X_test.csv\",header=None)\n",
        "x_test=test_images.iloc[:,:].values\n",
        "x_test.shape"
      ],
      "metadata": {
        "colab": {
          "base_uri": "https://localhost:8080/"
        },
        "id": "BoHjctwg-WYo",
        "outputId": "eaa22291-208a-4fcf-d9d5-6d1e8daff780"
      },
      "execution_count": null,
      "outputs": [
        {
          "output_type": "execute_result",
          "data": {
            "text/plain": [
              "(10547, 1000)"
            ]
          },
          "metadata": {},
          "execution_count": 33
        }
      ]
    },
    {
      "cell_type": "code",
      "source": [
        "test_labels=pd.read_csv(\"/content/dataset/content/CSV-FILES/y_test.csv\",header=None)\n",
        "y_test=test_labels.iloc[:,:].values\n",
        "y_test= y_test.flatten()\n",
        "y_test.shape"
      ],
      "metadata": {
        "colab": {
          "base_uri": "https://localhost:8080/"
        },
        "id": "7kg4OvKA-dTk",
        "outputId": "88b23106-bac2-4d14-d2ee-0754d48303ee"
      },
      "execution_count": null,
      "outputs": [
        {
          "output_type": "execute_result",
          "data": {
            "text/plain": [
              "(10547,)"
            ]
          },
          "metadata": {},
          "execution_count": 34
        }
      ]
    },
    {
      "cell_type": "markdown",
      "source": [
        "# **Determing The Shape of all The Data**"
      ],
      "metadata": {
        "id": "bGB5LJ4_Us8_"
      }
    },
    {
      "cell_type": "code",
      "source": [
        "x_train.shape"
      ],
      "metadata": {
        "colab": {
          "base_uri": "https://localhost:8080/"
        },
        "id": "oV5XxiucUxox",
        "outputId": "23c2cb5a-64ce-45c1-faa3-e3a00b434dcc"
      },
      "execution_count": null,
      "outputs": [
        {
          "output_type": "execute_result",
          "data": {
            "text/plain": [
              "(8751, 1000)"
            ]
          },
          "metadata": {},
          "execution_count": 17
        }
      ]
    },
    {
      "cell_type": "code",
      "source": [
        "y_train.shape"
      ],
      "metadata": {
        "colab": {
          "base_uri": "https://localhost:8080/"
        },
        "id": "qkEZXoJWU0Bk",
        "outputId": "39c46878-f7bb-4afb-f800-a648e118169e"
      },
      "execution_count": null,
      "outputs": [
        {
          "output_type": "execute_result",
          "data": {
            "text/plain": [
              "(8751,)"
            ]
          },
          "metadata": {},
          "execution_count": 18
        }
      ]
    },
    {
      "cell_type": "code",
      "source": [
        "x_test.shape"
      ],
      "metadata": {
        "colab": {
          "base_uri": "https://localhost:8080/"
        },
        "id": "39UpnG05U2rO",
        "outputId": "726ad6a0-ac43-4fcb-c895-e1f4e91f0d50"
      },
      "execution_count": null,
      "outputs": [
        {
          "output_type": "execute_result",
          "data": {
            "text/plain": [
              "(10547, 1000)"
            ]
          },
          "metadata": {},
          "execution_count": 19
        }
      ]
    },
    {
      "cell_type": "code",
      "source": [
        "y_test.shape"
      ],
      "metadata": {
        "colab": {
          "base_uri": "https://localhost:8080/"
        },
        "id": "pHjkvAiqU4LZ",
        "outputId": "67c91de8-7d83-47f2-8028-096c78234b2d"
      },
      "execution_count": null,
      "outputs": [
        {
          "output_type": "execute_result",
          "data": {
            "text/plain": [
              "(10547,)"
            ]
          },
          "metadata": {},
          "execution_count": 20
        }
      ]
    },
    {
      "cell_type": "markdown",
      "source": [
        "# **Training The MLP Model**"
      ],
      "metadata": {
        "id": "k0qkbkiFVGVS"
      }
    },
    {
      "cell_type": "code",
      "source": [
        "from sklearn.neural_network import MLPClassifier\n",
        "classifier = MLPClassifier(max_iter = 500, activation = 'relu')\n",
        "classifier.fit(x_train, y_train)"
      ],
      "metadata": {
        "colab": {
          "base_uri": "https://localhost:8080/"
        },
        "id": "HqTNKgr1VMnV",
        "outputId": "400cc05a-4e21-414e-c392-5240540eddf0"
      },
      "execution_count": null,
      "outputs": [
        {
          "output_type": "execute_result",
          "data": {
            "text/plain": [
              "MLPClassifier(max_iter=500)"
            ]
          },
          "metadata": {},
          "execution_count": 35
        }
      ]
    },
    {
      "cell_type": "markdown",
      "source": [
        "**Testing the Model**"
      ],
      "metadata": {
        "id": "JoqA7cxOWC86"
      }
    },
    {
      "cell_type": "code",
      "source": [
        "y_pred = classifier.predict(x_test)"
      ],
      "metadata": {
        "id": "PdJqNaJcWJqn"
      },
      "execution_count": null,
      "outputs": []
    },
    {
      "cell_type": "code",
      "source": [
        "print(y_pred)\n",
        "y_pred.shape"
      ],
      "metadata": {
        "id": "DGFEU_IVWJru",
        "colab": {
          "base_uri": "https://localhost:8080/"
        },
        "outputId": "2c1983a1-2ab3-45d1-c1ce-6e6863403951"
      },
      "execution_count": null,
      "outputs": [
        {
          "output_type": "stream",
          "name": "stdout",
          "text": [
            "[36. 36. 36. ...  5.  2.  2.]\n"
          ]
        },
        {
          "output_type": "execute_result",
          "data": {
            "text/plain": [
              "(10547,)"
            ]
          },
          "metadata": {},
          "execution_count": 37
        }
      ]
    },
    {
      "cell_type": "markdown",
      "source": [
        "**Confusion Matrix**"
      ],
      "metadata": {
        "id": "Hh6_IkjtWccK"
      }
    },
    {
      "cell_type": "code",
      "source": [
        "from sklearn.metrics import confusion_matrix\n",
        "confusion_matrix(y_test,y_pred)"
      ],
      "metadata": {
        "id": "dnytOR3AWfRx",
        "colab": {
          "base_uri": "https://localhost:8080/"
        },
        "outputId": "ea057d93-bc4b-4ecc-9cd9-98ac6382870f"
      },
      "execution_count": null,
      "outputs": [
        {
          "output_type": "execute_result",
          "data": {
            "text/plain": [
              "array([[  90,    0,    0, ...,    1,    0,    0],\n",
              "       [   5,   70,    0, ...,    0,    0,    0],\n",
              "       [   0,    0,   31, ...,    0,    0,    0],\n",
              "       ...,\n",
              "       [   0,    0,    4, ..., 1030,    0,    0],\n",
              "       [   0,    0,    0, ...,    0,   73,    0],\n",
              "       [   0,    0,    0, ...,    0,    0,  311]])"
            ]
          },
          "metadata": {},
          "execution_count": 38
        }
      ]
    },
    {
      "cell_type": "markdown",
      "source": [
        "**Calculating the Accuracy of the Model**"
      ],
      "metadata": {
        "id": "39zQ9wPGWl14"
      }
    },
    {
      "cell_type": "code",
      "source": [
        "from sklearn.metrics import classification_report\n",
        "print(classification_report(y_test,y_pred))"
      ],
      "metadata": {
        "id": "UJLdXHlGWquA",
        "colab": {
          "base_uri": "https://localhost:8080/"
        },
        "outputId": "ad33e51f-5eec-45cd-8e1f-a7b275272791"
      },
      "execution_count": null,
      "outputs": [
        {
          "output_type": "stream",
          "name": "stdout",
          "text": [
            "              precision    recall  f1-score   support\n",
            "\n",
            "         0.0       0.79      0.82      0.80       110\n",
            "         1.0       0.86      0.82      0.84        85\n",
            "         2.0       0.60      0.52      0.55        60\n",
            "         3.0       0.92      0.94      0.93       266\n",
            "         4.0       0.96      0.97      0.97       229\n",
            "         5.0       0.83      0.94      0.88       228\n",
            "         6.0       0.96      0.89      0.93       202\n",
            "         7.0       0.63      0.66      0.64       104\n",
            "         8.0       0.93      0.99      0.96       233\n",
            "         9.0       0.85      0.83      0.84       222\n",
            "        10.0       0.99      0.97      0.98       221\n",
            "        11.0       0.81      0.80      0.80       220\n",
            "        12.0       0.87      0.85      0.86       232\n",
            "        13.0       0.84      0.97      0.90       220\n",
            "        14.0       0.97      0.90      0.93        79\n",
            "        15.0       0.97      0.97      0.97      1166\n",
            "        16.0       0.85      0.91      0.88       440\n",
            "        17.0       0.88      1.00      0.93        21\n",
            "        18.0       0.66      0.61      0.64       129\n",
            "        19.0       0.82      0.88      0.85       303\n",
            "        20.0       0.87      0.89      0.88       224\n",
            "        21.0       0.78      0.70      0.74       204\n",
            "        22.0       0.50      0.62      0.56        16\n",
            "        23.0       0.92      0.78      0.85       180\n",
            "        24.0       0.96      0.97      0.96       899\n",
            "        25.0       0.96      0.94      0.95       379\n",
            "        26.0       0.92      0.78      0.85       193\n",
            "        27.0       0.85      0.93      0.89       100\n",
            "        28.0       0.88      0.82      0.85       463\n",
            "        29.0       0.79      0.57      0.66       184\n",
            "        30.0       0.82      0.75      0.78       369\n",
            "        31.0       0.81      0.81      0.81       140\n",
            "        32.0       0.80      0.83      0.82       312\n",
            "        33.0       0.87      0.93      0.90       340\n",
            "        34.0       0.82      0.89      0.85       257\n",
            "        35.0       0.91      0.93      0.92      1103\n",
            "        36.0       0.94      0.94      0.94        78\n",
            "        37.0       0.97      0.93      0.95       336\n",
            "\n",
            "    accuracy                           0.89     10547\n",
            "   macro avg       0.85      0.85      0.85     10547\n",
            "weighted avg       0.89      0.89      0.89     10547\n",
            "\n"
          ]
        }
      ]
    },
    {
      "cell_type": "code",
      "source": [
        "from sklearn.metrics import accuracy_score\n",
        "mlp = accuracy_score(y_test, y_pred)\n",
        "mlp"
      ],
      "metadata": {
        "id": "pThHbjIfZUDL",
        "colab": {
          "base_uri": "https://localhost:8080/"
        },
        "outputId": "519c293d-b833-4162-9197-91623990674f"
      },
      "execution_count": null,
      "outputs": [
        {
          "output_type": "execute_result",
          "data": {
            "text/plain": [
              "0.8887835403432256"
            ]
          },
          "metadata": {},
          "execution_count": 40
        }
      ]
    },
    {
      "cell_type": "markdown",
      "source": [
        "# **Naive-Bays Model**"
      ],
      "metadata": {
        "id": "zoc9oVerXwxN"
      }
    },
    {
      "cell_type": "code",
      "source": [
        "from sklearn.naive_bayes import GaussianNB\n",
        "clf = GaussianNB()\n",
        "clf.fit(x_train, y_train)"
      ],
      "metadata": {
        "colab": {
          "base_uri": "https://localhost:8080/"
        },
        "id": "zMgebDUcX0HQ",
        "outputId": "bfcefef3-6649-41b8-ba8b-7cd038f5859e"
      },
      "execution_count": null,
      "outputs": [
        {
          "output_type": "execute_result",
          "data": {
            "text/plain": [
              "GaussianNB()"
            ]
          },
          "metadata": {},
          "execution_count": 41
        }
      ]
    },
    {
      "cell_type": "code",
      "source": [
        "y_pred = clf.predict(x_test)"
      ],
      "metadata": {
        "id": "eQeoSbq3X9ki"
      },
      "execution_count": null,
      "outputs": []
    },
    {
      "cell_type": "code",
      "source": [
        "from sklearn.metrics import confusion_matrix, accuracy_score\n",
        "cm = confusion_matrix(y_test, y_pred)\n",
        "print(cm)\n",
        "naive = accuracy_score(y_test, y_pred)\n",
        "naive"
      ],
      "metadata": {
        "id": "j83IlSrKYGr4",
        "colab": {
          "base_uri": "https://localhost:8080/"
        },
        "outputId": "cbb8cc5d-87ef-411e-d89a-466ee0f207df"
      },
      "execution_count": null,
      "outputs": [
        {
          "output_type": "stream",
          "name": "stdout",
          "text": [
            "[[ 59   5   1 ...   0   0   1]\n",
            " [  5  49   0 ...   0   0   0]\n",
            " [  1   0  34 ...   0   0   0]\n",
            " ...\n",
            " [  0   0   9 ... 118   0   0]\n",
            " [  3   0   0 ...   0  62   0]\n",
            " [  1   0   3 ...   0   0 238]]\n"
          ]
        },
        {
          "output_type": "execute_result",
          "data": {
            "text/plain": [
              "0.5871811889636863"
            ]
          },
          "metadata": {},
          "execution_count": 43
        }
      ]
    },
    {
      "cell_type": "code",
      "source": [
        "from sklearn.metrics import classification_report\n",
        "print(classification_report(y_test,y_pred))"
      ],
      "metadata": {
        "id": "lFf4yUNPYLxD",
        "colab": {
          "base_uri": "https://localhost:8080/"
        },
        "outputId": "8c80a324-a348-45d4-b622-d46235bdf061"
      },
      "execution_count": null,
      "outputs": [
        {
          "output_type": "stream",
          "name": "stdout",
          "text": [
            "              precision    recall  f1-score   support\n",
            "\n",
            "         0.0       0.34      0.54      0.42       110\n",
            "         1.0       0.34      0.58      0.43        85\n",
            "         2.0       0.20      0.57      0.30        60\n",
            "         3.0       0.45      0.68      0.55       266\n",
            "         4.0       0.89      0.78      0.83       229\n",
            "         5.0       0.65      0.39      0.49       228\n",
            "         6.0       0.68      0.74      0.71       202\n",
            "         7.0       0.39      0.50      0.44       104\n",
            "         8.0       0.79      0.90      0.84       233\n",
            "         9.0       0.70      0.56      0.62       222\n",
            "        10.0       0.95      0.84      0.89       221\n",
            "        11.0       0.26      0.26      0.26       220\n",
            "        12.0       0.54      0.82      0.65       232\n",
            "        13.0       0.31      0.85      0.46       220\n",
            "        14.0       0.88      0.67      0.76        79\n",
            "        15.0       0.66      0.68      0.67      1166\n",
            "        16.0       0.72      0.38      0.49       440\n",
            "        17.0       0.94      0.76      0.84        21\n",
            "        18.0       0.17      0.50      0.26       129\n",
            "        19.0       0.68      0.48      0.56       303\n",
            "        20.0       0.69      0.83      0.75       224\n",
            "        21.0       0.33      0.46      0.38       204\n",
            "        22.0       0.21      0.38      0.27        16\n",
            "        23.0       0.67      0.50      0.57       180\n",
            "        24.0       0.89      0.84      0.87       899\n",
            "        25.0       0.86      0.77      0.81       379\n",
            "        26.0       0.44      0.66      0.53       193\n",
            "        27.0       0.38      0.73      0.50       100\n",
            "        28.0       0.76      0.62      0.68       463\n",
            "        29.0       0.30      0.41      0.35       184\n",
            "        30.0       0.54      0.40      0.46       369\n",
            "        31.0       0.58      0.33      0.42       140\n",
            "        32.0       0.58      0.45      0.51       312\n",
            "        33.0       0.41      0.72      0.52       340\n",
            "        34.0       0.62      0.88      0.72       257\n",
            "        35.0       0.79      0.11      0.19      1103\n",
            "        36.0       0.89      0.79      0.84        78\n",
            "        37.0       0.93      0.71      0.80       336\n",
            "\n",
            "    accuracy                           0.59     10547\n",
            "   macro avg       0.59      0.61      0.57     10547\n",
            "weighted avg       0.66      0.59      0.58     10547\n",
            "\n"
          ]
        }
      ]
    },
    {
      "cell_type": "markdown",
      "source": [
        "# **Random Forest Classification**"
      ],
      "metadata": {
        "id": "bC4Hdr-BYOUd"
      }
    },
    {
      "cell_type": "code",
      "source": [
        "from sklearn.ensemble import RandomForestClassifier\n",
        "clf1 = RandomForestClassifier(n_estimators = 70, oob_score = True, n_jobs = -1,max_features = None, min_samples_leaf = 30)\n",
        "clf1.fit(x_train, y_train)"
      ],
      "metadata": {
        "id": "4F-Og9aHYRoU",
        "colab": {
          "base_uri": "https://localhost:8080/"
        },
        "outputId": "3aa46dca-b2f3-44dd-e63a-fc2d053f99db"
      },
      "execution_count": null,
      "outputs": [
        {
          "output_type": "execute_result",
          "data": {
            "text/plain": [
              "RandomForestClassifier(max_features=None, min_samples_leaf=30, n_estimators=70,\n",
              "                       n_jobs=-1, oob_score=True)"
            ]
          },
          "metadata": {},
          "execution_count": 71
        }
      ]
    },
    {
      "cell_type": "code",
      "source": [
        "y_pred = clf1.predict(x_test)"
      ],
      "metadata": {
        "id": "zQtnAn3mYj6P"
      },
      "execution_count": null,
      "outputs": []
    },
    {
      "cell_type": "code",
      "source": [
        "from sklearn.metrics import confusion_matrix, accuracy_score\n",
        "cm = confusion_matrix(y_test, y_pred)\n",
        "print(cm)\n",
        "rand = accuracy_score(y_test, y_pred)\n",
        "rand"
      ],
      "metadata": {
        "id": "yVVXb8XTYntv",
        "colab": {
          "base_uri": "https://localhost:8080/"
        },
        "outputId": "96d5d004-38d3-499d-cdaa-6cb306fc9f0d"
      },
      "execution_count": null,
      "outputs": [
        {
          "output_type": "stream",
          "name": "stdout",
          "text": [
            "[[  24    4    0 ...    4    0    3]\n",
            " [   2   42    0 ...    0    0    0]\n",
            " [   0    0    0 ...    3    0    0]\n",
            " ...\n",
            " [   0    0    0 ... 1016    0    0]\n",
            " [   0    0    0 ...    0   49    0]\n",
            " [   0    0    0 ...    0    0  262]]\n"
          ]
        },
        {
          "output_type": "execute_result",
          "data": {
            "text/plain": [
              "0.7258936190385892"
            ]
          },
          "metadata": {},
          "execution_count": 73
        }
      ]
    },
    {
      "cell_type": "code",
      "source": [
        "from sklearn.metrics import classification_report\n",
        "print(classification_report(y_test,y_pred))"
      ],
      "metadata": {
        "id": "QNwsS_e0YwGS",
        "colab": {
          "base_uri": "https://localhost:8080/"
        },
        "outputId": "acc8e6a8-86e7-44bb-9503-68af4dcdde43"
      },
      "execution_count": null,
      "outputs": [
        {
          "output_type": "stream",
          "name": "stdout",
          "text": [
            "              precision    recall  f1-score   support\n",
            "\n",
            "         0.0       0.63      0.22      0.32       110\n",
            "         1.0       0.59      0.49      0.54        85\n",
            "         2.0       0.00      0.00      0.00        60\n",
            "         3.0       0.57      0.74      0.64       266\n",
            "         4.0       0.74      0.89      0.81       229\n",
            "         5.0       0.67      0.47      0.55       228\n",
            "         6.0       0.71      0.57      0.64       202\n",
            "         7.0       0.68      0.16      0.26       104\n",
            "         8.0       0.89      0.93      0.91       233\n",
            "         9.0       0.71      0.64      0.68       222\n",
            "        10.0       0.92      0.91      0.92       221\n",
            "        11.0       0.54      0.42      0.48       220\n",
            "        12.0       0.73      0.81      0.77       232\n",
            "        13.0       0.78      0.66      0.71       220\n",
            "        14.0       0.80      0.75      0.77        79\n",
            "        15.0       0.83      0.94      0.88      1166\n",
            "        16.0       0.79      0.74      0.76       440\n",
            "        17.0       0.73      0.90      0.81        21\n",
            "        18.0       0.34      0.37      0.35       129\n",
            "        19.0       0.64      0.62      0.63       303\n",
            "        20.0       0.78      0.82      0.80       224\n",
            "        21.0       0.57      0.56      0.56       204\n",
            "        22.0       0.00      0.00      0.00        16\n",
            "        23.0       0.00      0.00      0.00       180\n",
            "        24.0       0.83      0.90      0.87       899\n",
            "        25.0       0.79      0.84      0.81       379\n",
            "        26.0       0.66      0.64      0.65       193\n",
            "        27.0       0.68      0.64      0.66       100\n",
            "        28.0       0.74      0.61      0.67       463\n",
            "        29.0       0.60      0.14      0.23       184\n",
            "        30.0       0.54      0.66      0.59       369\n",
            "        31.0       0.65      0.36      0.47       140\n",
            "        32.0       0.58      0.71      0.63       312\n",
            "        33.0       0.62      0.79      0.70       340\n",
            "        34.0       0.69      0.77      0.73       257\n",
            "        35.0       0.73      0.92      0.82      1103\n",
            "        36.0       0.83      0.63      0.72        78\n",
            "        37.0       0.78      0.78      0.78       336\n",
            "\n",
            "    accuracy                           0.73     10547\n",
            "   macro avg       0.64      0.61      0.61     10547\n",
            "weighted avg       0.71      0.73      0.71     10547\n",
            "\n"
          ]
        },
        {
          "output_type": "stream",
          "name": "stderr",
          "text": [
            "/usr/local/lib/python3.7/dist-packages/sklearn/metrics/_classification.py:1318: UndefinedMetricWarning: Precision and F-score are ill-defined and being set to 0.0 in labels with no predicted samples. Use `zero_division` parameter to control this behavior.\n",
            "  _warn_prf(average, modifier, msg_start, len(result))\n",
            "/usr/local/lib/python3.7/dist-packages/sklearn/metrics/_classification.py:1318: UndefinedMetricWarning: Precision and F-score are ill-defined and being set to 0.0 in labels with no predicted samples. Use `zero_division` parameter to control this behavior.\n",
            "  _warn_prf(average, modifier, msg_start, len(result))\n",
            "/usr/local/lib/python3.7/dist-packages/sklearn/metrics/_classification.py:1318: UndefinedMetricWarning: Precision and F-score are ill-defined and being set to 0.0 in labels with no predicted samples. Use `zero_division` parameter to control this behavior.\n",
            "  _warn_prf(average, modifier, msg_start, len(result))\n"
          ]
        }
      ]
    },
    {
      "cell_type": "markdown",
      "source": [
        "# **K-NN**"
      ],
      "metadata": {
        "id": "9B7XqvX9Yx6w"
      }
    },
    {
      "cell_type": "code",
      "source": [
        "from sklearn.neighbors import KNeighborsClassifier\n",
        "kn = KNeighborsClassifier(n_neighbors = 15, metric = 'minkowski', p = 2)\n",
        "kn.fit(x_train, y_train)"
      ],
      "metadata": {
        "id": "VPX932IJY7s7",
        "colab": {
          "base_uri": "https://localhost:8080/"
        },
        "outputId": "428c898c-693a-4c1d-a4c6-8e155f750d79"
      },
      "execution_count": null,
      "outputs": [
        {
          "output_type": "execute_result",
          "data": {
            "text/plain": [
              "KNeighborsClassifier(n_neighbors=15)"
            ]
          },
          "metadata": {},
          "execution_count": 46
        }
      ]
    },
    {
      "cell_type": "code",
      "source": [
        "y_pred = kn.predict(x_test)"
      ],
      "metadata": {
        "id": "ZZVhai57ZAie"
      },
      "execution_count": null,
      "outputs": []
    },
    {
      "cell_type": "code",
      "source": [
        "from sklearn.metrics import confusion_matrix, accuracy_score\n",
        "cm = confusion_matrix(y_test, y_pred)\n",
        "print(cm)\n",
        "knn = accuracy_score(y_test, y_pred)\n",
        "knn"
      ],
      "metadata": {
        "id": "RBdKFKKwZEYy",
        "colab": {
          "base_uri": "https://localhost:8080/"
        },
        "outputId": "c48f068a-0d9d-455f-9b02-d5f77757ae3a"
      },
      "execution_count": null,
      "outputs": [
        {
          "output_type": "stream",
          "name": "stdout",
          "text": [
            "[[  43    3    0 ...    3    0    0]\n",
            " [   4   64    0 ...    0    0    0]\n",
            " [   1    0   16 ...    5    0    0]\n",
            " ...\n",
            " [   0    0    1 ... 1042    0    0]\n",
            " [   0    0    0 ...    0   72    0]\n",
            " [   0    0    0 ...    0    0  317]]\n"
          ]
        },
        {
          "output_type": "execute_result",
          "data": {
            "text/plain": [
              "0.8178628994026738"
            ]
          },
          "metadata": {},
          "execution_count": 48
        }
      ]
    },
    {
      "cell_type": "code",
      "source": [
        "from sklearn.metrics import classification_report\n",
        "print(classification_report(y_test,y_pred))"
      ],
      "metadata": {
        "id": "9XC1fWYCZKQi",
        "colab": {
          "base_uri": "https://localhost:8080/"
        },
        "outputId": "4cb1467b-24ea-412e-9469-2406f1460200"
      },
      "execution_count": null,
      "outputs": [
        {
          "output_type": "stream",
          "name": "stdout",
          "text": [
            "              precision    recall  f1-score   support\n",
            "\n",
            "         0.0       0.64      0.39      0.49       110\n",
            "         1.0       0.80      0.75      0.78        85\n",
            "         2.0       0.67      0.27      0.38        60\n",
            "         3.0       0.76      0.84      0.80       266\n",
            "         4.0       0.82      0.97      0.89       229\n",
            "         5.0       0.75      0.75      0.75       228\n",
            "         6.0       0.86      0.83      0.84       202\n",
            "         7.0       0.61      0.38      0.47       104\n",
            "         8.0       0.96      0.96      0.96       233\n",
            "         9.0       0.81      0.73      0.77       222\n",
            "        10.0       0.96      0.97      0.96       221\n",
            "        11.0       0.77      0.58      0.66       220\n",
            "        12.0       0.78      0.89      0.83       232\n",
            "        13.0       0.71      0.91      0.80       220\n",
            "        14.0       0.83      0.86      0.84        79\n",
            "        15.0       0.86      0.95      0.91      1166\n",
            "        16.0       0.89      0.80      0.84       440\n",
            "        17.0       0.72      1.00      0.84        21\n",
            "        18.0       0.69      0.46      0.55       129\n",
            "        19.0       0.79      0.69      0.74       303\n",
            "        20.0       0.77      0.89      0.82       224\n",
            "        21.0       0.71      0.52      0.60       204\n",
            "        22.0       0.75      0.56      0.64        16\n",
            "        23.0       0.94      0.57      0.71       180\n",
            "        24.0       0.91      0.96      0.93       899\n",
            "        25.0       0.86      0.93      0.89       379\n",
            "        26.0       0.72      0.76      0.74       193\n",
            "        27.0       0.61      0.72      0.66       100\n",
            "        28.0       0.80      0.76      0.78       463\n",
            "        29.0       0.85      0.29      0.43       184\n",
            "        30.0       0.71      0.64      0.67       369\n",
            "        31.0       0.77      0.81      0.79       140\n",
            "        32.0       0.83      0.62      0.71       312\n",
            "        33.0       0.71      0.87      0.78       340\n",
            "        34.0       0.84      0.79      0.81       257\n",
            "        35.0       0.80      0.94      0.87      1103\n",
            "        36.0       0.96      0.92      0.94        78\n",
            "        37.0       0.91      0.94      0.93       336\n",
            "\n",
            "    accuracy                           0.82     10547\n",
            "   macro avg       0.79      0.75      0.76     10547\n",
            "weighted avg       0.82      0.82      0.81     10547\n",
            "\n"
          ]
        }
      ]
    },
    {
      "cell_type": "markdown",
      "source": [
        "# **Decision Tree**"
      ],
      "metadata": {
        "id": "5fXcMm-_ZgDd"
      }
    },
    {
      "cell_type": "code",
      "source": [
        "from sklearn.tree import DecisionTreeClassifier\n",
        "clf2 = DecisionTreeClassifier(max_depth = 10, random_state = 101, max_features = None, min_samples_leaf = 15)\n",
        "clf2.fit(x_train, y_train)"
      ],
      "metadata": {
        "id": "zurBYOxfZlCZ",
        "colab": {
          "base_uri": "https://localhost:8080/"
        },
        "outputId": "e1f74098-7335-4dc9-afbc-20cb01609bb9"
      },
      "execution_count": null,
      "outputs": [
        {
          "output_type": "execute_result",
          "data": {
            "text/plain": [
              "DecisionTreeClassifier(max_depth=10, min_samples_leaf=15, random_state=101)"
            ]
          },
          "metadata": {},
          "execution_count": 50
        }
      ]
    },
    {
      "cell_type": "code",
      "source": [
        "y_pred = clf2.predict(x_test)"
      ],
      "metadata": {
        "id": "UCvi0HunZq1b"
      },
      "execution_count": null,
      "outputs": []
    },
    {
      "cell_type": "code",
      "source": [
        "from sklearn.metrics import confusion_matrix, accuracy_score\n",
        "cm = confusion_matrix(y_test, y_pred)\n",
        "print(cm)\n",
        "desc = accuracy_score(y_test, y_pred)\n",
        "desc"
      ],
      "metadata": {
        "id": "oEVwQcPWZ3MM",
        "colab": {
          "base_uri": "https://localhost:8080/"
        },
        "outputId": "3d9da820-d841-4cdd-c175-4612ce17c4b9"
      },
      "execution_count": null,
      "outputs": [
        {
          "output_type": "stream",
          "name": "stdout",
          "text": [
            "[[  0   0   1 ...   2   0   0]\n",
            " [  0  14   0 ...   0   0   0]\n",
            " [  0   0   8 ...  10   0   0]\n",
            " ...\n",
            " [  0   0   0 ... 875   0   0]\n",
            " [  0   0   0 ...   0   0   1]\n",
            " [  0   0   4 ...   5   0 249]]\n"
          ]
        },
        {
          "output_type": "execute_result",
          "data": {
            "text/plain": [
              "0.49028159666255805"
            ]
          },
          "metadata": {},
          "execution_count": 52
        }
      ]
    },
    {
      "cell_type": "code",
      "source": [
        "from sklearn.metrics import classification_report\n",
        "print(classification_report(y_test,y_pred))"
      ],
      "metadata": {
        "id": "N81FO-JlZ8HT",
        "colab": {
          "base_uri": "https://localhost:8080/"
        },
        "outputId": "019d828b-2ba8-4765-bfa4-e467be723632"
      },
      "execution_count": null,
      "outputs": [
        {
          "output_type": "stream",
          "name": "stdout",
          "text": [
            "              precision    recall  f1-score   support\n",
            "\n",
            "         0.0       0.00      0.00      0.00       110\n",
            "         1.0       0.36      0.16      0.23        85\n",
            "         2.0       0.11      0.13      0.12        60\n",
            "         3.0       0.53      0.52      0.53       266\n",
            "         4.0       0.08      0.01      0.02       229\n",
            "         5.0       0.56      0.26      0.35       228\n",
            "         6.0       0.51      0.10      0.17       202\n",
            "         7.0       0.00      0.00      0.00       104\n",
            "         8.0       0.87      0.69      0.77       233\n",
            "         9.0       0.53      0.24      0.33       222\n",
            "        10.0       0.96      0.81      0.87       221\n",
            "        11.0       0.47      0.26      0.34       220\n",
            "        12.0       0.74      0.65      0.69       232\n",
            "        13.0       0.24      0.08      0.12       220\n",
            "        14.0       0.61      0.24      0.35        79\n",
            "        15.0       0.86      0.71      0.78      1166\n",
            "        16.0       0.63      0.45      0.52       440\n",
            "        17.0       0.00      0.00      0.00        21\n",
            "        18.0       0.71      0.08      0.14       129\n",
            "        19.0       0.62      0.48      0.54       303\n",
            "        20.0       0.00      0.00      0.00       224\n",
            "        21.0       0.00      0.00      0.00       204\n",
            "        22.0       0.00      0.00      0.00        16\n",
            "        23.0       0.90      0.25      0.39       180\n",
            "        24.0       0.79      0.80      0.80       899\n",
            "        25.0       0.47      0.70      0.56       379\n",
            "        26.0       0.00      0.00      0.00       193\n",
            "        27.0       0.00      0.00      0.00       100\n",
            "        28.0       0.61      0.50      0.55       463\n",
            "        29.0       0.60      0.17      0.27       184\n",
            "        30.0       0.83      0.07      0.12       369\n",
            "        31.0       0.42      0.09      0.15       140\n",
            "        32.0       0.08      0.88      0.14       312\n",
            "        33.0       0.67      0.62      0.65       340\n",
            "        34.0       0.53      0.66      0.59       257\n",
            "        35.0       0.80      0.79      0.80      1103\n",
            "        36.0       0.00      0.00      0.00        78\n",
            "        37.0       0.80      0.74      0.77       336\n",
            "\n",
            "    accuracy                           0.49     10547\n",
            "   macro avg       0.45      0.32      0.33     10547\n",
            "weighted avg       0.59      0.49      0.50     10547\n",
            "\n"
          ]
        },
        {
          "output_type": "stream",
          "name": "stderr",
          "text": [
            "/usr/local/lib/python3.7/dist-packages/sklearn/metrics/_classification.py:1318: UndefinedMetricWarning: Precision and F-score are ill-defined and being set to 0.0 in labels with no predicted samples. Use `zero_division` parameter to control this behavior.\n",
            "  _warn_prf(average, modifier, msg_start, len(result))\n",
            "/usr/local/lib/python3.7/dist-packages/sklearn/metrics/_classification.py:1318: UndefinedMetricWarning: Precision and F-score are ill-defined and being set to 0.0 in labels with no predicted samples. Use `zero_division` parameter to control this behavior.\n",
            "  _warn_prf(average, modifier, msg_start, len(result))\n",
            "/usr/local/lib/python3.7/dist-packages/sklearn/metrics/_classification.py:1318: UndefinedMetricWarning: Precision and F-score are ill-defined and being set to 0.0 in labels with no predicted samples. Use `zero_division` parameter to control this behavior.\n",
            "  _warn_prf(average, modifier, msg_start, len(result))\n"
          ]
        }
      ]
    },
    {
      "cell_type": "markdown",
      "source": [
        "# **Kernel SVM**"
      ],
      "metadata": {
        "id": "a50Vdm7zaPfu"
      }
    },
    {
      "cell_type": "code",
      "source": [
        "from sklearn.svm import SVC\n",
        "classifier1 = SVC(kernel = 'linear', C =  1,  random_state = 101)\n",
        "classifier1.fit(x_train, y_train)"
      ],
      "metadata": {
        "id": "lvIY-If-aRmS",
        "colab": {
          "base_uri": "https://localhost:8080/"
        },
        "outputId": "de924d9d-9765-467b-8666-51cfc52346c3"
      },
      "execution_count": null,
      "outputs": [
        {
          "output_type": "execute_result",
          "data": {
            "text/plain": [
              "SVC(C=1, kernel='linear', random_state=101)"
            ]
          },
          "metadata": {},
          "execution_count": 54
        }
      ]
    },
    {
      "cell_type": "code",
      "source": [
        "y_pred = classifier1.predict(x_test)"
      ],
      "metadata": {
        "id": "fYwMiz4Paa2V"
      },
      "execution_count": null,
      "outputs": []
    },
    {
      "cell_type": "code",
      "source": [
        "from sklearn.metrics import confusion_matrix, accuracy_score\n",
        "cm = confusion_matrix(y_test, y_pred)\n",
        "print(cm)\n",
        "svm = accuracy_score(y_test, y_pred)\n",
        "svm"
      ],
      "metadata": {
        "id": "maeJvdCRajei",
        "colab": {
          "base_uri": "https://localhost:8080/"
        },
        "outputId": "5becf4dd-6b4a-45ca-d5bf-37fb3e556664"
      },
      "execution_count": null,
      "outputs": [
        {
          "output_type": "stream",
          "name": "stdout",
          "text": [
            "[[  94    0    1 ...    0    0    0]\n",
            " [   5   71    0 ...    0    0    0]\n",
            " [   0    0   41 ...    1    0    0]\n",
            " ...\n",
            " [   0    0    4 ... 1039    0    0]\n",
            " [   0    0    0 ...    0   74    0]\n",
            " [   0    0    0 ...    0    0  310]]\n"
          ]
        },
        {
          "output_type": "execute_result",
          "data": {
            "text/plain": [
              "0.8921968332227174"
            ]
          },
          "metadata": {},
          "execution_count": 56
        }
      ]
    },
    {
      "cell_type": "code",
      "source": [
        "from sklearn.metrics import classification_report\n",
        "print(classification_report(y_test,y_pred))"
      ],
      "metadata": {
        "id": "-ln8Ozhea4TU",
        "colab": {
          "base_uri": "https://localhost:8080/"
        },
        "outputId": "161b4626-153d-40cb-a2ba-8637975feb3f"
      },
      "execution_count": null,
      "outputs": [
        {
          "output_type": "stream",
          "name": "stdout",
          "text": [
            "              precision    recall  f1-score   support\n",
            "\n",
            "         0.0       0.80      0.85      0.83       110\n",
            "         1.0       0.85      0.84      0.84        85\n",
            "         2.0       0.61      0.68      0.65        60\n",
            "         3.0       0.87      0.94      0.90       266\n",
            "         4.0       0.97      0.96      0.96       229\n",
            "         5.0       0.89      0.94      0.91       228\n",
            "         6.0       0.92      0.91      0.92       202\n",
            "         7.0       0.67      0.66      0.67       104\n",
            "         8.0       0.96      0.98      0.97       233\n",
            "         9.0       0.88      0.85      0.86       222\n",
            "        10.0       0.98      0.99      0.98       221\n",
            "        11.0       0.78      0.77      0.77       220\n",
            "        12.0       0.87      0.87      0.87       232\n",
            "        13.0       0.85      0.94      0.89       220\n",
            "        14.0       1.00      0.94      0.97        79\n",
            "        15.0       0.97      0.98      0.97      1166\n",
            "        16.0       0.88      0.92      0.90       440\n",
            "        17.0       0.91      0.95      0.93        21\n",
            "        18.0       0.75      0.62      0.68       129\n",
            "        19.0       0.85      0.86      0.86       303\n",
            "        20.0       0.86      0.89      0.88       224\n",
            "        21.0       0.76      0.74      0.75       204\n",
            "        22.0       0.71      0.75      0.73        16\n",
            "        23.0       0.93      0.76      0.84       180\n",
            "        24.0       0.95      0.97      0.96       899\n",
            "        25.0       0.94      0.95      0.94       379\n",
            "        26.0       0.86      0.82      0.84       193\n",
            "        27.0       0.79      0.89      0.84       100\n",
            "        28.0       0.92      0.84      0.88       463\n",
            "        29.0       0.74      0.62      0.67       184\n",
            "        30.0       0.80      0.78      0.79       369\n",
            "        31.0       0.75      0.84      0.79       140\n",
            "        32.0       0.85      0.79      0.82       312\n",
            "        33.0       0.88      0.90      0.89       340\n",
            "        34.0       0.83      0.86      0.84       257\n",
            "        35.0       0.93      0.94      0.94      1103\n",
            "        36.0       0.99      0.95      0.97        78\n",
            "        37.0       0.95      0.92      0.94       336\n",
            "\n",
            "    accuracy                           0.89     10547\n",
            "   macro avg       0.86      0.86      0.86     10547\n",
            "weighted avg       0.89      0.89      0.89     10547\n",
            "\n"
          ]
        }
      ]
    },
    {
      "cell_type": "markdown",
      "source": [
        "# **Linear SVC**"
      ],
      "metadata": {
        "id": "k2Gs3nfUeH6e"
      }
    },
    {
      "cell_type": "code",
      "source": [
        "from sklearn.svm import LinearSVC\n",
        "class3 = LinearSVC(random_state=0, tol=1e-5)\n",
        "class3.fit(x_train, y_train)"
      ],
      "metadata": {
        "id": "-u4a6K9edUo8",
        "colab": {
          "base_uri": "https://localhost:8080/"
        },
        "outputId": "abfc2ae3-cb47-4cbc-f507-c40cfccb6c4a"
      },
      "execution_count": null,
      "outputs": [
        {
          "output_type": "stream",
          "name": "stderr",
          "text": [
            "/usr/local/lib/python3.7/dist-packages/sklearn/svm/_base.py:1208: ConvergenceWarning: Liblinear failed to converge, increase the number of iterations.\n",
            "  ConvergenceWarning,\n"
          ]
        },
        {
          "output_type": "execute_result",
          "data": {
            "text/plain": [
              "LinearSVC(random_state=0, tol=1e-05)"
            ]
          },
          "metadata": {},
          "execution_count": 58
        }
      ]
    },
    {
      "cell_type": "code",
      "source": [
        "y_pred = class3.predict(x_test)"
      ],
      "metadata": {
        "id": "G9xocQMQeKex"
      },
      "execution_count": null,
      "outputs": []
    },
    {
      "cell_type": "code",
      "source": [
        "from sklearn.metrics import confusion_matrix, accuracy_score\n",
        "cm = confusion_matrix(y_test, y_pred)\n",
        "print(cm)\n",
        "svc = accuracy_score(y_test, y_pred)\n",
        "svc"
      ],
      "metadata": {
        "id": "zMul4WybePmt",
        "colab": {
          "base_uri": "https://localhost:8080/"
        },
        "outputId": "819c977e-06a9-4ed8-9285-33c7c8a28670"
      },
      "execution_count": null,
      "outputs": [
        {
          "output_type": "stream",
          "name": "stdout",
          "text": [
            "[[  94    0    0 ...    0    0    0]\n",
            " [   3   68    0 ...    0    0    0]\n",
            " [   2    0   32 ...    5    0    0]\n",
            " ...\n",
            " [   0    0    1 ... 1052    0    0]\n",
            " [   0    0    0 ...    0   74    0]\n",
            " [   0    0    0 ...    0    0  316]]\n"
          ]
        },
        {
          "output_type": "execute_result",
          "data": {
            "text/plain": [
              "0.8912486963117474"
            ]
          },
          "metadata": {},
          "execution_count": 60
        }
      ]
    },
    {
      "cell_type": "code",
      "source": [
        "from sklearn.metrics import classification_report\n",
        "print(classification_report(y_test,y_pred))"
      ],
      "metadata": {
        "id": "1nb7ZQ4GeRis",
        "colab": {
          "base_uri": "https://localhost:8080/"
        },
        "outputId": "0f4d524b-d5ba-4db9-cea1-acfa8848c9f7"
      },
      "execution_count": null,
      "outputs": [
        {
          "output_type": "stream",
          "name": "stdout",
          "text": [
            "              precision    recall  f1-score   support\n",
            "\n",
            "         0.0       0.79      0.85      0.82       110\n",
            "         1.0       0.80      0.80      0.80        85\n",
            "         2.0       0.68      0.53      0.60        60\n",
            "         3.0       0.89      0.90      0.89       266\n",
            "         4.0       0.96      0.98      0.97       229\n",
            "         5.0       0.91      0.94      0.93       228\n",
            "         6.0       0.91      0.89      0.90       202\n",
            "         7.0       0.69      0.65      0.67       104\n",
            "         8.0       0.97      0.97      0.97       233\n",
            "         9.0       0.88      0.86      0.87       222\n",
            "        10.0       0.98      0.99      0.99       221\n",
            "        11.0       0.80      0.80      0.80       220\n",
            "        12.0       0.88      0.87      0.88       232\n",
            "        13.0       0.90      0.94      0.92       220\n",
            "        14.0       0.99      0.94      0.96        79\n",
            "        15.0       0.97      0.98      0.97      1166\n",
            "        16.0       0.87      0.91      0.89       440\n",
            "        17.0       0.88      1.00      0.93        21\n",
            "        18.0       0.72      0.55      0.62       129\n",
            "        19.0       0.88      0.88      0.88       303\n",
            "        20.0       0.88      0.89      0.89       224\n",
            "        21.0       0.80      0.71      0.75       204\n",
            "        22.0       0.69      0.69      0.69        16\n",
            "        23.0       0.92      0.86      0.89       180\n",
            "        24.0       0.95      0.97      0.96       899\n",
            "        25.0       0.94      0.96      0.95       379\n",
            "        26.0       0.84      0.84      0.84       193\n",
            "        27.0       0.83      0.90      0.87       100\n",
            "        28.0       0.90      0.83      0.86       463\n",
            "        29.0       0.72      0.56      0.63       184\n",
            "        30.0       0.72      0.75      0.74       369\n",
            "        31.0       0.77      0.85      0.81       140\n",
            "        32.0       0.83      0.76      0.79       312\n",
            "        33.0       0.87      0.92      0.89       340\n",
            "        34.0       0.81      0.86      0.83       257\n",
            "        35.0       0.92      0.95      0.94      1103\n",
            "        36.0       0.91      0.95      0.93        78\n",
            "        37.0       0.94      0.94      0.94       336\n",
            "\n",
            "    accuracy                           0.89     10547\n",
            "   macro avg       0.86      0.85      0.85     10547\n",
            "weighted avg       0.89      0.89      0.89     10547\n",
            "\n"
          ]
        }
      ]
    },
    {
      "cell_type": "markdown",
      "source": [
        "# **Logistic Regression**"
      ],
      "metadata": {
        "id": "769KZo9tfKwT"
      }
    },
    {
      "cell_type": "code",
      "source": [
        "from sklearn.linear_model import LogisticRegression\n",
        "classifier4 = LogisticRegression(random_state = 0)\n",
        "classifier4.fit(x_train, y_train)"
      ],
      "metadata": {
        "id": "fctRHs56fNiN",
        "colab": {
          "base_uri": "https://localhost:8080/"
        },
        "outputId": "1117c45b-4c90-4ccb-872f-342edf454ae2"
      },
      "execution_count": null,
      "outputs": [
        {
          "output_type": "stream",
          "name": "stderr",
          "text": [
            "/usr/local/lib/python3.7/dist-packages/sklearn/linear_model/_logistic.py:818: ConvergenceWarning: lbfgs failed to converge (status=1):\n",
            "STOP: TOTAL NO. of ITERATIONS REACHED LIMIT.\n",
            "\n",
            "Increase the number of iterations (max_iter) or scale the data as shown in:\n",
            "    https://scikit-learn.org/stable/modules/preprocessing.html\n",
            "Please also refer to the documentation for alternative solver options:\n",
            "    https://scikit-learn.org/stable/modules/linear_model.html#logistic-regression\n",
            "  extra_warning_msg=_LOGISTIC_SOLVER_CONVERGENCE_MSG,\n"
          ]
        },
        {
          "output_type": "execute_result",
          "data": {
            "text/plain": [
              "LogisticRegression(random_state=0)"
            ]
          },
          "metadata": {},
          "execution_count": 62
        }
      ]
    },
    {
      "cell_type": "code",
      "source": [
        "y_pred = classifier4.predict(x_test)"
      ],
      "metadata": {
        "id": "M6bXOv1EfVVA"
      },
      "execution_count": null,
      "outputs": []
    },
    {
      "cell_type": "code",
      "source": [
        "from sklearn.metrics import confusion_matrix, accuracy_score\n",
        "cm = confusion_matrix(y_test, y_pred)\n",
        "print(cm)\n",
        "logis = accuracy_score(y_test, y_pred)\n",
        "logis"
      ],
      "metadata": {
        "id": "ntsN9C5TfYaO",
        "colab": {
          "base_uri": "https://localhost:8080/"
        },
        "outputId": "b69833f6-3091-4434-dbfe-52e29c960063"
      },
      "execution_count": null,
      "outputs": [
        {
          "output_type": "stream",
          "name": "stdout",
          "text": [
            "[[  85    0    0 ...    0    0    0]\n",
            " [   3   68    0 ...    0    1    0]\n",
            " [   0    0   30 ...    4    0    0]\n",
            " ...\n",
            " [   0    0    1 ... 1045    0    0]\n",
            " [   0    0    0 ...    0   72    0]\n",
            " [   0    0    0 ...    0    0  306]]\n"
          ]
        },
        {
          "output_type": "execute_result",
          "data": {
            "text/plain": [
              "0.8919123921494264"
            ]
          },
          "metadata": {},
          "execution_count": 64
        }
      ]
    },
    {
      "cell_type": "code",
      "source": [
        "from sklearn.metrics import classification_report\n",
        "print(classification_report(y_test,y_pred))"
      ],
      "metadata": {
        "id": "QW2zSgT8fhPY",
        "colab": {
          "base_uri": "https://localhost:8080/"
        },
        "outputId": "e9907fa7-2976-487f-b636-af0d81d69c77"
      },
      "execution_count": null,
      "outputs": [
        {
          "output_type": "stream",
          "name": "stdout",
          "text": [
            "              precision    recall  f1-score   support\n",
            "\n",
            "         0.0       0.81      0.77      0.79       110\n",
            "         1.0       0.86      0.80      0.83        85\n",
            "         2.0       0.68      0.50      0.58        60\n",
            "         3.0       0.87      0.93      0.90       266\n",
            "         4.0       0.97      0.97      0.97       229\n",
            "         5.0       0.93      0.93      0.93       228\n",
            "         6.0       0.96      0.90      0.93       202\n",
            "         7.0       0.75      0.63      0.69       104\n",
            "         8.0       0.95      0.97      0.96       233\n",
            "         9.0       0.84      0.85      0.84       222\n",
            "        10.0       0.99      0.97      0.98       221\n",
            "        11.0       0.84      0.83      0.83       220\n",
            "        12.0       0.90      0.90      0.90       232\n",
            "        13.0       0.87      0.95      0.91       220\n",
            "        14.0       0.96      0.87      0.91        79\n",
            "        15.0       0.97      0.98      0.98      1166\n",
            "        16.0       0.90      0.93      0.91       440\n",
            "        17.0       0.91      0.95      0.93        21\n",
            "        18.0       0.65      0.61      0.63       129\n",
            "        19.0       0.83      0.86      0.85       303\n",
            "        20.0       0.91      0.88      0.89       224\n",
            "        21.0       0.80      0.71      0.75       204\n",
            "        22.0       0.55      0.69      0.61        16\n",
            "        23.0       0.92      0.79      0.85       180\n",
            "        24.0       0.95      0.96      0.96       899\n",
            "        25.0       0.95      0.96      0.95       379\n",
            "        26.0       0.86      0.83      0.84       193\n",
            "        27.0       0.80      0.90      0.85       100\n",
            "        28.0       0.89      0.86      0.87       463\n",
            "        29.0       0.73      0.57      0.64       184\n",
            "        30.0       0.71      0.78      0.74       369\n",
            "        31.0       0.77      0.83      0.80       140\n",
            "        32.0       0.81      0.79      0.80       312\n",
            "        33.0       0.88      0.92      0.90       340\n",
            "        34.0       0.81      0.89      0.85       257\n",
            "        35.0       0.92      0.95      0.94      1103\n",
            "        36.0       0.96      0.92      0.94        78\n",
            "        37.0       0.96      0.91      0.93       336\n",
            "\n",
            "    accuracy                           0.89     10547\n",
            "   macro avg       0.86      0.85      0.85     10547\n",
            "weighted avg       0.89      0.89      0.89     10547\n",
            "\n"
          ]
        }
      ]
    },
    {
      "cell_type": "markdown",
      "source": [
        "# **Stochastic Gradient Descent**"
      ],
      "metadata": {
        "id": "SE6FCEdufxDB"
      }
    },
    {
      "cell_type": "code",
      "source": [
        "from sklearn.linear_model import SGDClassifier\n",
        "sgd = SGDClassifier(loss = 'modified_huber', shuffle = True, random_state = 101)\n",
        "sgd.fit(x_train, y_train)"
      ],
      "metadata": {
        "id": "n194eW8bf0G7",
        "colab": {
          "base_uri": "https://localhost:8080/"
        },
        "outputId": "55ac628b-0166-4f10-a966-2deed6071d57"
      },
      "execution_count": null,
      "outputs": [
        {
          "output_type": "execute_result",
          "data": {
            "text/plain": [
              "SGDClassifier(loss='modified_huber', random_state=101)"
            ]
          },
          "metadata": {},
          "execution_count": 66
        }
      ]
    },
    {
      "cell_type": "code",
      "source": [
        "y_pred = sgd.predict(x_test)"
      ],
      "metadata": {
        "id": "Xeu90tqxgQ66"
      },
      "execution_count": null,
      "outputs": []
    },
    {
      "cell_type": "code",
      "source": [
        "from sklearn.metrics import confusion_matrix, accuracy_score\n",
        "cm = confusion_matrix(y_test, y_pred)\n",
        "print(cm)\n",
        "stoc = accuracy_score(y_test, y_pred)\n",
        "stoc"
      ],
      "metadata": {
        "id": "BPFcFj62gXQF",
        "colab": {
          "base_uri": "https://localhost:8080/"
        },
        "outputId": "e2da151b-0c56-49f9-ccd8-f0a97489412e"
      },
      "execution_count": null,
      "outputs": [
        {
          "output_type": "stream",
          "name": "stdout",
          "text": [
            "[[  92    0    1 ...    0    0    0]\n",
            " [   6   68    0 ...    0    0    0]\n",
            " [   0    0   29 ...    4    0    0]\n",
            " ...\n",
            " [   0    0    2 ... 1021    0    0]\n",
            " [   0    0    0 ...    0   73    0]\n",
            " [   0    0    1 ...    0    0  317]]\n"
          ]
        },
        {
          "output_type": "execute_result",
          "data": {
            "text/plain": [
              "0.8731392813122215"
            ]
          },
          "metadata": {},
          "execution_count": 68
        }
      ]
    },
    {
      "cell_type": "code",
      "source": [
        "from sklearn.metrics import classification_report\n",
        "print(classification_report(y_test,y_pred))"
      ],
      "metadata": {
        "id": "LgO2C4rJggJP",
        "colab": {
          "base_uri": "https://localhost:8080/"
        },
        "outputId": "8cf52f66-5bcc-4f50-c1c8-55d8f015e9d4"
      },
      "execution_count": null,
      "outputs": [
        {
          "output_type": "stream",
          "name": "stdout",
          "text": [
            "              precision    recall  f1-score   support\n",
            "\n",
            "         0.0       0.70      0.84      0.76       110\n",
            "         1.0       0.88      0.80      0.84        85\n",
            "         2.0       0.71      0.48      0.57        60\n",
            "         3.0       0.89      0.89      0.89       266\n",
            "         4.0       0.99      0.97      0.98       229\n",
            "         5.0       0.90      0.93      0.91       228\n",
            "         6.0       0.96      0.79      0.86       202\n",
            "         7.0       0.63      0.70      0.67       104\n",
            "         8.0       0.94      0.97      0.95       233\n",
            "         9.0       0.87      0.82      0.84       222\n",
            "        10.0       0.99      0.98      0.99       221\n",
            "        11.0       0.79      0.63      0.70       220\n",
            "        12.0       0.76      0.92      0.83       232\n",
            "        13.0       0.87      0.93      0.90       220\n",
            "        14.0       0.98      0.82      0.90        79\n",
            "        15.0       0.93      0.98      0.95      1166\n",
            "        16.0       0.85      0.90      0.88       440\n",
            "        17.0       0.84      1.00      0.91        21\n",
            "        18.0       0.75      0.51      0.61       129\n",
            "        19.0       0.83      0.86      0.85       303\n",
            "        20.0       0.92      0.88      0.90       224\n",
            "        21.0       0.69      0.75      0.72       204\n",
            "        22.0       0.48      0.69      0.56        16\n",
            "        23.0       0.88      0.78      0.82       180\n",
            "        24.0       0.92      0.97      0.94       899\n",
            "        25.0       0.89      0.95      0.92       379\n",
            "        26.0       0.88      0.80      0.84       193\n",
            "        27.0       0.82      0.84      0.83       100\n",
            "        28.0       0.88      0.79      0.83       463\n",
            "        29.0       0.60      0.58      0.59       184\n",
            "        30.0       0.76      0.71      0.74       369\n",
            "        31.0       0.83      0.78      0.80       140\n",
            "        32.0       0.87      0.72      0.79       312\n",
            "        33.0       0.82      0.93      0.87       340\n",
            "        34.0       0.87      0.85      0.86       257\n",
            "        35.0       0.93      0.93      0.93      1103\n",
            "        36.0       0.97      0.94      0.95        78\n",
            "        37.0       0.94      0.94      0.94       336\n",
            "\n",
            "    accuracy                           0.87     10547\n",
            "   macro avg       0.84      0.83      0.83     10547\n",
            "weighted avg       0.87      0.87      0.87     10547\n",
            "\n"
          ]
        }
      ]
    },
    {
      "cell_type": "markdown",
      "source": [
        "# **Final Results**"
      ],
      "metadata": {
        "id": "FMSHwlPuuynD"
      }
    },
    {
      "cell_type": "code",
      "source": [
        "print('Accuracy of MLP Model is {}'.format(mlp))\n",
        "print('Accuracy of Naive-Bays Model is {}'.format(naive))\n",
        "print('Accuracy of Random Forest Model is {}'.format(rand))\n",
        "print('Accuracy of K-NN Model is {}'.format(knn))\n",
        "print('Accuracy of Decision Tree Model is {}'.format(desc))\n",
        "print('Accuracy of Kernel Svm Model is {}'.format(svm))\n",
        "print('Accuracy of Linear SVC Model is {}'.format(svc))\n",
        "print('Accuracy of Logistic Regression Model is {}'.format(logis))\n",
        "print('Accuracy of Stochastic Gradient Descent Model is {}'.format(stoc))"
      ],
      "metadata": {
        "id": "TPLoNVXtu77I",
        "colab": {
          "base_uri": "https://localhost:8080/"
        },
        "outputId": "755c6a7f-a01d-4764-ebde-dcac671f033f"
      },
      "execution_count": null,
      "outputs": [
        {
          "output_type": "stream",
          "name": "stdout",
          "text": [
            "Accuracy of MLP Model is 0.8887835403432256\n",
            "Accuracy of Naive-Bays Model is 0.5871811889636863\n",
            "Accuracy of Random Forest Model is 0.7258936190385892\n",
            "Accuracy of K-NN Model is 0.8178628994026738\n",
            "Accuracy of Decision Tree Model is 0.49028159666255805\n",
            "Accuracy of Kernel Svm Model is 0.8921968332227174\n",
            "Accuracy of Linear SVC Model is 0.8912486963117474\n",
            "Accuracy of Logistic Regression Model is 0.8919123921494264\n",
            "Accuracy of Stochastic Gradient Descent Model is 0.8731392813122215\n"
          ]
        }
      ]
    }
  ]
}