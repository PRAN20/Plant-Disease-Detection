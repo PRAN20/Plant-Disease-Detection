{
  "nbformat": 4,
  "nbformat_minor": 0,
  "metadata": {
    "colab": {
      "name": "alexnet_features.ipynb",
      "provenance": [],
      "collapsed_sections": [],
      "include_colab_link": true
    },
    "kernelspec": {
      "name": "python3",
      "display_name": "Python 3"
    },
    "language_info": {
      "name": "python"
    },
    "accelerator": "GPU"
  },
  "cells": [
    {
      "cell_type": "markdown",
      "metadata": {
        "id": "view-in-github",
        "colab_type": "text"
      },
      "source": [
        "<a href=\"https://colab.research.google.com/github/PRAN20/Plant-Disease-Detection/blob/main/alexnet_features.ipynb\" target=\"_parent\"><img src=\"https://colab.research.google.com/assets/colab-badge.svg\" alt=\"Open In Colab\"/></a>"
      ]
    },
    {
      "cell_type": "markdown",
      "source": [
        "mounting drive"
      ],
      "metadata": {
        "id": "78LR2dDc_OJA"
      }
    },
    {
      "cell_type": "code",
      "metadata": {
        "colab": {
          "base_uri": "https://localhost:8080/"
        },
        "id": "YewR_mzVRG83",
        "outputId": "eb630d37-7493-4def-f3f3-323e8b646acd"
      },
      "source": [
        "from google.colab import drive\n",
        "drive.mount('/content/drive')"
      ],
      "execution_count": null,
      "outputs": [
        {
          "output_type": "stream",
          "name": "stdout",
          "text": [
            "Mounted at /content/drive\n"
          ]
        }
      ]
    },
    {
      "cell_type": "markdown",
      "source": [
        "loading model"
      ],
      "metadata": {
        "id": "nmrjTLvc_Qyw"
      }
    },
    {
      "cell_type": "code",
      "metadata": {
        "id": "CPNNU7XL-GlP"
      },
      "source": [
        "import keras\n",
        "model= keras.models.load_model(\"/content/drive/MyDrive/Alex.hdf5\")"
      ],
      "execution_count": null,
      "outputs": []
    },
    {
      "cell_type": "markdown",
      "source": [
        "viewing model layers"
      ],
      "metadata": {
        "id": "UERgLYKc_SlE"
      }
    },
    {
      "cell_type": "code",
      "source": [
        "model.summary()"
      ],
      "metadata": {
        "colab": {
          "base_uri": "https://localhost:8080/"
        },
        "id": "dBojIAg45cwB",
        "outputId": "8c831be0-16e8-49ee-9527-3f4d143eae05"
      },
      "execution_count": null,
      "outputs": [
        {
          "output_type": "stream",
          "name": "stdout",
          "text": [
            "Model: \"sequential_1\"\n",
            "_________________________________________________________________\n",
            " Layer (type)                Output Shape              Param #   \n",
            "=================================================================\n",
            " conv2d_5 (Conv2D)           (None, 54, 54, 96)        34944     \n",
            "                                                                 \n",
            " max_pooling2d_3 (MaxPooling  (None, 27, 27, 96)       0         \n",
            " 2D)                                                             \n",
            "                                                                 \n",
            " batch_normalization_8 (Batc  (None, 27, 27, 96)       384       \n",
            " hNormalization)                                                 \n",
            "                                                                 \n",
            " conv2d_6 (Conv2D)           (None, 17, 17, 256)       2973952   \n",
            "                                                                 \n",
            " max_pooling2d_4 (MaxPooling  (None, 8, 8, 256)        0         \n",
            " 2D)                                                             \n",
            "                                                                 \n",
            " batch_normalization_9 (Batc  (None, 8, 8, 256)        1024      \n",
            " hNormalization)                                                 \n",
            "                                                                 \n",
            " conv2d_7 (Conv2D)           (None, 6, 6, 384)         885120    \n",
            "                                                                 \n",
            " batch_normalization_10 (Bat  (None, 6, 6, 384)        1536      \n",
            " chNormalization)                                                \n",
            "                                                                 \n",
            " conv2d_8 (Conv2D)           (None, 4, 4, 384)         1327488   \n",
            "                                                                 \n",
            " batch_normalization_11 (Bat  (None, 4, 4, 384)        1536      \n",
            " chNormalization)                                                \n",
            "                                                                 \n",
            " conv2d_9 (Conv2D)           (None, 2, 2, 256)         884992    \n",
            "                                                                 \n",
            " max_pooling2d_5 (MaxPooling  (None, 1, 1, 256)        0         \n",
            " 2D)                                                             \n",
            "                                                                 \n",
            " batch_normalization_12 (Bat  (None, 1, 1, 256)        1024      \n",
            " chNormalization)                                                \n",
            "                                                                 \n",
            " flatten_1 (Flatten)         (None, 256)               0         \n",
            "                                                                 \n",
            " dense_4 (Dense)             (None, 4096)              1052672   \n",
            "                                                                 \n",
            " dropout_3 (Dropout)         (None, 4096)              0         \n",
            "                                                                 \n",
            " batch_normalization_13 (Bat  (None, 4096)             16384     \n",
            " chNormalization)                                                \n",
            "                                                                 \n",
            " dense_5 (Dense)             (None, 4096)              16781312  \n",
            "                                                                 \n",
            " dropout_4 (Dropout)         (None, 4096)              0         \n",
            "                                                                 \n",
            " batch_normalization_14 (Bat  (None, 4096)             16384     \n",
            " chNormalization)                                                \n",
            "                                                                 \n",
            " dense_6 (Dense)             (None, 1000)              4097000   \n",
            "                                                                 \n",
            " dropout_5 (Dropout)         (None, 1000)              0         \n",
            "                                                                 \n",
            " batch_normalization_15 (Bat  (None, 1000)             4000      \n",
            " chNormalization)                                                \n",
            "                                                                 \n",
            " dense_7 (Dense)             (None, 38)                38038     \n",
            "                                                                 \n",
            "=================================================================\n",
            "Total params: 28,117,790\n",
            "Trainable params: 4,137,038\n",
            "Non-trainable params: 23,980,752\n",
            "_________________________________________________________________\n"
          ]
        }
      ]
    },
    {
      "cell_type": "markdown",
      "source": [
        "selecting model layers from 0 to n-1 and initializing it to new_model / tried pop function but wasn't working"
      ],
      "metadata": {
        "id": "eMVpyJoO_VCS"
      }
    },
    {
      "cell_type": "code",
      "metadata": {
        "id": "PV8wbByR9Ga3"
      },
      "source": [
        "import tensorflow as tf\n",
        "new_model = tf.keras.models.Sequential(model.layers[:-1])"
      ],
      "execution_count": null,
      "outputs": []
    },
    {
      "cell_type": "markdown",
      "source": [
        "checking new_model layers"
      ],
      "metadata": {
        "id": "Yq1lEajF_gaH"
      }
    },
    {
      "cell_type": "code",
      "source": [
        "new_model.summary()"
      ],
      "metadata": {
        "colab": {
          "base_uri": "https://localhost:8080/"
        },
        "id": "3YJetMrp5vT7",
        "outputId": "00300ae2-7e64-4537-bd77-de8d7b4d3dc1"
      },
      "execution_count": null,
      "outputs": [
        {
          "output_type": "stream",
          "name": "stdout",
          "text": [
            "Model: \"sequential\"\n",
            "_________________________________________________________________\n",
            " Layer (type)                Output Shape              Param #   \n",
            "=================================================================\n",
            " conv2d_5 (Conv2D)           (None, 54, 54, 96)        34944     \n",
            "                                                                 \n",
            " max_pooling2d_3 (MaxPooling  (None, 27, 27, 96)       0         \n",
            " 2D)                                                             \n",
            "                                                                 \n",
            " batch_normalization_8 (Batc  (None, 27, 27, 96)       384       \n",
            " hNormalization)                                                 \n",
            "                                                                 \n",
            " conv2d_6 (Conv2D)           (None, 17, 17, 256)       2973952   \n",
            "                                                                 \n",
            " max_pooling2d_4 (MaxPooling  (None, 8, 8, 256)        0         \n",
            " 2D)                                                             \n",
            "                                                                 \n",
            " batch_normalization_9 (Batc  (None, 8, 8, 256)        1024      \n",
            " hNormalization)                                                 \n",
            "                                                                 \n",
            " conv2d_7 (Conv2D)           (None, 6, 6, 384)         885120    \n",
            "                                                                 \n",
            " batch_normalization_10 (Bat  (None, 6, 6, 384)        1536      \n",
            " chNormalization)                                                \n",
            "                                                                 \n",
            " conv2d_8 (Conv2D)           (None, 4, 4, 384)         1327488   \n",
            "                                                                 \n",
            " batch_normalization_11 (Bat  (None, 4, 4, 384)        1536      \n",
            " chNormalization)                                                \n",
            "                                                                 \n",
            " conv2d_9 (Conv2D)           (None, 2, 2, 256)         884992    \n",
            "                                                                 \n",
            " max_pooling2d_5 (MaxPooling  (None, 1, 1, 256)        0         \n",
            " 2D)                                                             \n",
            "                                                                 \n",
            " batch_normalization_12 (Bat  (None, 1, 1, 256)        1024      \n",
            " chNormalization)                                                \n",
            "                                                                 \n",
            " flatten_1 (Flatten)         (None, 256)               0         \n",
            "                                                                 \n",
            " dense_4 (Dense)             (None, 4096)              1052672   \n",
            "                                                                 \n",
            " dropout_3 (Dropout)         (None, 4096)              0         \n",
            "                                                                 \n",
            " batch_normalization_13 (Bat  (None, 4096)             16384     \n",
            " chNormalization)                                                \n",
            "                                                                 \n",
            " dense_5 (Dense)             (None, 4096)              16781312  \n",
            "                                                                 \n",
            " dropout_4 (Dropout)         (None, 4096)              0         \n",
            "                                                                 \n",
            " batch_normalization_14 (Bat  (None, 4096)             16384     \n",
            " chNormalization)                                                \n",
            "                                                                 \n",
            " dense_6 (Dense)             (None, 1000)              4097000   \n",
            "                                                                 \n",
            " dropout_5 (Dropout)         (None, 1000)              0         \n",
            "                                                                 \n",
            " batch_normalization_15 (Bat  (None, 1000)             4000      \n",
            " chNormalization)                                                \n",
            "                                                                 \n",
            "=================================================================\n",
            "Total params: 28,079,752\n",
            "Trainable params: 4,099,000\n",
            "Non-trainable params: 23,980,752\n",
            "_________________________________________________________________\n"
          ]
        }
      ]
    },
    {
      "cell_type": "markdown",
      "source": [
        "getting dataset"
      ],
      "metadata": {
        "id": "YLxUZKaT_tWa"
      }
    },
    {
      "cell_type": "code",
      "source": [
        "!git clone https://github.com/spMohanty/PlantVillage-Dataset"
      ],
      "metadata": {
        "colab": {
          "base_uri": "https://localhost:8080/"
        },
        "id": "aeHl1Wt6785R",
        "outputId": "633f1265-390c-495a-d8df-981b92cc768b"
      },
      "execution_count": null,
      "outputs": [
        {
          "output_type": "stream",
          "name": "stdout",
          "text": [
            "Cloning into 'PlantVillage-Dataset'...\n",
            "remote: Enumerating objects: 163229, done.\u001b[K\n",
            "remote: Total 163229 (delta 0), reused 0 (delta 0), pack-reused 163229\u001b[K\n",
            "Receiving objects: 100% (163229/163229), 2.00 GiB | 30.11 MiB/s, done.\n",
            "Resolving deltas: 100% (99/99), done.\n",
            "Checking out files: 100% (182401/182401), done.\n"
          ]
        }
      ]
    },
    {
      "cell_type": "markdown",
      "source": [
        "checking if prediction is giving right number of features"
      ],
      "metadata": {
        "id": "sYa4r6So_vNO"
      }
    },
    {
      "cell_type": "code",
      "metadata": {
        "colab": {
          "base_uri": "https://localhost:8080/"
        },
        "id": "DxeGFmao9tFa",
        "outputId": "5e9729bb-1caa-4d4e-a51d-40aae8caf407"
      },
      "source": [
        "import cv2\n",
        "import numpy as np\n",
        "img1= cv2.imread(\"/content/PlantVillage-Dataset/data_distribution_for_SVM/train/0/007cb8ca-b40c-46a2-9b7b-19f5b43b0e78.JPG\",1)\n",
        "img1 = cv2.resize(img1,(224,224))\n",
        "img1= np.expand_dims(img1,axis=0)\n",
        "(new_model.predict(img1/255))[0].flatten().shape"
      ],
      "execution_count": null,
      "outputs": [
        {
          "output_type": "execute_result",
          "data": {
            "text/plain": [
              "(1000,)"
            ]
          },
          "metadata": {},
          "execution_count": 7
        }
      ]
    },
    {
      "cell_type": "markdown",
      "source": [
        "passing all images from all folders in train and storing predicted features by new_model into train_imgs array / storing folder name as label in train_labels array."
      ],
      "metadata": {
        "id": "Ls9PP046_0Wx"
      }
    },
    {
      "cell_type": "code",
      "metadata": {
        "id": "tEhtlvklQi9j"
      },
      "source": [
        "import os\n",
        "import cv2\n",
        "import numpy as np\n",
        "train_imgs=[]\n",
        "train_labels=[]\n",
        "n=1\n",
        "for folder in os.listdir(\"/content/PlantVillage-Dataset/data_distribution_for_SVM/train\"):\n",
        "  for imgs in os.listdir(\"/content/PlantVillage-Dataset/data_distribution_for_SVM/train/\"+folder):\n",
        "    img1_path = cv2.imread(\"/content/PlantVillage-Dataset/data_distribution_for_SVM/train/\"+folder+\"/\"+imgs,1)\n",
        "    img1 = cv2.resize(img1_path,(224,224))\n",
        "    img1= np.expand_dims(img1,axis=0)\n",
        "    img1_embedding = new_model.predict(img1/255)[0].flatten()\n",
        "    train_imgs.append(img1_embedding)\n",
        "    train_labels.append(int(folder))"
      ],
      "execution_count": null,
      "outputs": []
    },
    {
      "cell_type": "markdown",
      "source": [
        "same thing with test folder"
      ],
      "metadata": {
        "id": "UzYHWvCmAFmP"
      }
    },
    {
      "cell_type": "code",
      "source": [
        "import os\n",
        "import cv2\n",
        "import numpy as np\n",
        "test_imgs=[]\n",
        "test_labels=[]\n",
        "n=1\n",
        "for folder in os.listdir(\"/content/PlantVillage-Dataset/data_distribution_for_SVM/test\"):\n",
        "  for imgs in os.listdir(\"/content/PlantVillage-Dataset/data_distribution_for_SVM/test/\"+folder):\n",
        "    img1_path = cv2.imread(\"/content/PlantVillage-Dataset/data_distribution_for_SVM/test/\"+folder+\"/\"+imgs,1)\n",
        "    img1 = cv2.resize(img1_path,(224,224))\n",
        "    img1= np.expand_dims(img1,axis=0)\n",
        "    img1_embedding = new_model.predict(img1/255)[0].flatten()\n",
        "    test_imgs.append(img1_embedding)\n",
        "    test_labels.append(int(folder))"
      ],
      "metadata": {
        "id": "GOhHLC00-WtX"
      },
      "execution_count": null,
      "outputs": []
    },
    {
      "cell_type": "markdown",
      "source": [
        "converting to numpy array"
      ],
      "metadata": {
        "id": "A2RK9oQYAVEa"
      }
    },
    {
      "cell_type": "code",
      "metadata": {
        "id": "IEPSp5cwhYhZ"
      },
      "source": [
        "train_imgs= np.array(train_imgs)\n",
        "train_labels= np.array(train_labels)"
      ],
      "execution_count": null,
      "outputs": []
    },
    {
      "cell_type": "markdown",
      "source": [
        "checking if we got correct array as planned"
      ],
      "metadata": {
        "id": "LWAVIZZYAakr"
      }
    },
    {
      "cell_type": "code",
      "metadata": {
        "colab": {
          "base_uri": "https://localhost:8080/"
        },
        "id": "aAZ4cqKCiCir",
        "outputId": "f6edc457-4ac9-4a11-f3b3-1d998b0af548"
      },
      "source": [
        "train_imgs.shape, train_labels.shape"
      ],
      "execution_count": null,
      "outputs": [
        {
          "output_type": "execute_result",
          "data": {
            "text/plain": [
              "((8751, 1000), (8751,))"
            ]
          },
          "metadata": {},
          "execution_count": 11
        }
      ]
    },
    {
      "cell_type": "markdown",
      "source": [
        "saving train_imgs to X_train.csv"
      ],
      "metadata": {
        "id": "8qsFH9-WAhTD"
      }
    },
    {
      "cell_type": "code",
      "metadata": {
        "id": "BFIv1TqsWfzt"
      },
      "source": [
        "import numpy\n",
        "a = numpy.asarray(train_imgs)\n",
        "numpy.savetxt(\"X_train.csv\", a, delimiter=\",\")"
      ],
      "execution_count": null,
      "outputs": []
    },
    {
      "cell_type": "markdown",
      "source": [
        "saving train_labels to y_train.csv"
      ],
      "metadata": {
        "id": "dBnw0QzjAlw1"
      }
    },
    {
      "cell_type": "code",
      "metadata": {
        "id": "Kz4NsjS9XR4i"
      },
      "source": [
        "a = numpy.asarray(train_labels)\n",
        "numpy.savetxt(\"y_train.csv\", a, delimiter=\",\")"
      ],
      "execution_count": null,
      "outputs": []
    },
    {
      "cell_type": "markdown",
      "source": [
        "converting test images and labels to numpy array"
      ],
      "metadata": {
        "id": "ZxN8b7NuArVm"
      }
    },
    {
      "cell_type": "code",
      "metadata": {
        "id": "kR-Sei2gtDUn",
        "colab": {
          "base_uri": "https://localhost:8080/"
        },
        "outputId": "b74e11d9-4346-4670-bf4f-8707a6687b0e"
      },
      "source": [
        "test_imgs= np.array(test_imgs)\n",
        "test_labels= np.array(test_labels)\n",
        "test_imgs.shape, test_labels.shape"
      ],
      "execution_count": null,
      "outputs": [
        {
          "output_type": "execute_result",
          "data": {
            "text/plain": [
              "((10547, 1000), (10547,))"
            ]
          },
          "metadata": {},
          "execution_count": 14
        }
      ]
    },
    {
      "cell_type": "markdown",
      "source": [
        "saving test_imgs to X_test and test_labels to y_test.csv"
      ],
      "metadata": {
        "id": "fF7xpFBpAvRi"
      }
    },
    {
      "cell_type": "code",
      "source": [
        "a = numpy.asarray(test_imgs)\n",
        "numpy.savetxt(\"X_test.csv\", a, delimiter=\",\")\n",
        "a = numpy.asarray(test_labels)\n",
        "numpy.savetxt(\"y_test.csv\", a, delimiter=\",\")"
      ],
      "metadata": {
        "id": "2CtzeYv2ySMH"
      },
      "execution_count": null,
      "outputs": []
    },
    {
      "cell_type": "code",
      "source": [
        "from zipfile import ZipFile\n",
        "import os\n",
        "  \n",
        "def get_all_file_paths(directory):\n",
        "    file_paths = []\n",
        "  \n",
        "    for root, directories, files in os.walk(directory):\n",
        "        for filename in files:\n",
        "            filepath = os.path.join(root, filename)\n",
        "            file_paths.append(filepath)\n",
        "  \n",
        "    return file_paths        \n",
        "  \n",
        "def main():\n",
        "    directory = '/content/CSV-FILES'\n",
        "    file_paths = get_all_file_paths(directory)\n",
        "    print('Following files will be zipped:')\n",
        "    for file_name in file_paths:\n",
        "        print(file_name)\n",
        "  \n",
        "    with ZipFile('my_python_files.zip','w') as zip:\n",
        "        for file in file_paths:\n",
        "            zip.write(file)\n",
        "  \n",
        "    print('All files zipped successfully!')        \n",
        "  \n",
        "if __name__ == \"__main__\":\n",
        "    main()"
      ],
      "metadata": {
        "colab": {
          "base_uri": "https://localhost:8080/"
        },
        "id": "5A8Ln-tRTryh",
        "outputId": "8d5860e9-c7ce-4de9-8cea-4154c1aa7cf7"
      },
      "execution_count": null,
      "outputs": [
        {
          "output_type": "stream",
          "name": "stdout",
          "text": [
            "Following files will be zipped:\n",
            "/content/CSV-FILES/X_test.csv\n",
            "/content/CSV-FILES/X_train.csv\n",
            "/content/CSV-FILES/y_test.csv\n",
            "/content/CSV-FILES/y_train.csv\n",
            "All files zipped successfully!\n"
          ]
        }
      ]
    },
    {
      "cell_type": "code",
      "source": [
        ""
      ],
      "metadata": {
        "id": "6ORhfYuW8qQc"
      },
      "execution_count": null,
      "outputs": []
    }
  ]
}