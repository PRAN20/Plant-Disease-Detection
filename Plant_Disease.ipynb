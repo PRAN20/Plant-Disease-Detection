{
  "nbformat": 4,
  "nbformat_minor": 0,
  "metadata": {
    "colab": {
      "name": "Plant-Disease.ipynb",
      "provenance": [],
      "include_colab_link": true
    },
    "kernelspec": {
      "name": "python3",
      "display_name": "Python 3"
    },
    "language_info": {
      "name": "python"
    },
    "accelerator": "GPU"
  },
  "cells": [
    {
      "cell_type": "markdown",
      "metadata": {
        "id": "view-in-github",
        "colab_type": "text"
      },
      "source": [
        "<a href=\"https://colab.research.google.com/github/PRAN20/Plant-Disease-Detection/blob/main/Plant_Disease.ipynb\" target=\"_parent\"><img src=\"https://colab.research.google.com/assets/colab-badge.svg\" alt=\"Open In Colab\"/></a>"
      ]
    },
    {
      "cell_type": "markdown",
      "source": [
        "## **Plant Diseases Classification Using AlexNet**"
      ],
      "metadata": {
        "id": "fxo8dOY9xrxM"
      }
    },
    {
      "cell_type": "markdown",
      "source": [
        "# **Importing Header Files**"
      ],
      "metadata": {
        "id": "vssyCzkZxrkM"
      }
    },
    {
      "cell_type": "code",
      "execution_count": null,
      "metadata": {
        "id": "eleRgmHf29-D"
      },
      "outputs": [],
      "source": [
        "import numpy as np\n",
        "import pandas as ps\n",
        "import matplotlib.pyplot as plt"
      ]
    },
    {
      "cell_type": "code",
      "source": [
        "from keras.models import Sequential\n",
        "from keras.layers import Convolution2D\n",
        "from keras.layers import MaxPooling2D\n",
        "from keras.layers import Flatten\n",
        "from keras.layers import Dense\n",
        "from keras.layers import Dropout\n",
        "# from keras.layers.normalization import BatchNormalization\n",
        "from tensorflow.keras.layers import BatchNormalization"
      ],
      "metadata": {
        "id": "YYXhd5Uz4Chc"
      },
      "execution_count": null,
      "outputs": []
    },
    {
      "cell_type": "markdown",
      "source": [
        "# **Importing Header Files**"
      ],
      "metadata": {
        "id": "hCcTjLMcx5qx"
      }
    },
    {
      "cell_type": "code",
      "source": [
        "from google.colab import drive\n",
        "drive.mount('/content/drive')"
      ],
      "metadata": {
        "colab": {
          "base_uri": "https://localhost:8080/"
        },
        "id": "l4ra3Tjrg5P-",
        "outputId": "7e774226-7cf2-4bb7-8558-2a42b64175e8"
      },
      "execution_count": null,
      "outputs": [
        {
          "output_type": "stream",
          "name": "stdout",
          "text": [
            "Mounted at /content/drive\n"
          ]
        }
      ]
    },
    {
      "cell_type": "code",
      "source": [
        "!git clone https://github.com/spMohanty/PlantVillage-Dataset"
      ],
      "metadata": {
        "colab": {
          "base_uri": "https://localhost:8080/"
        },
        "id": "dTu_alcN3QNK",
        "outputId": "b6ef4aa8-aebe-49a9-dd59-34d7520a5129"
      },
      "execution_count": null,
      "outputs": [
        {
          "output_type": "stream",
          "name": "stdout",
          "text": [
            "Cloning into 'PlantVillage-Dataset'...\n",
            "remote: Enumerating objects: 163229, done.\u001b[K\n",
            "remote: Total 163229 (delta 0), reused 0 (delta 0), pack-reused 163229\u001b[K\n",
            "Receiving objects: 100% (163229/163229), 2.00 GiB | 31.39 MiB/s, done.\n",
            "Resolving deltas: 100% (99/99), done.\n",
            "Checking out files: 100% (182401/182401), done.\n"
          ]
        }
      ]
    },
    {
      "cell_type": "code",
      "source": [
        "cd PlantVillage-Dataset"
      ],
      "metadata": {
        "colab": {
          "base_uri": "https://localhost:8080/"
        },
        "id": "W3GSwOd13vyD",
        "outputId": "87abed48-5991-4a5d-d53c-7e7432224a78"
      },
      "execution_count": null,
      "outputs": [
        {
          "output_type": "stream",
          "name": "stdout",
          "text": [
            "/content/PlantVillage-Dataset\n"
          ]
        }
      ]
    },
    {
      "cell_type": "markdown",
      "source": [
        "# **Creating AlexNet Model**"
      ],
      "metadata": {
        "id": "1iaANfV84jIk"
      }
    },
    {
      "cell_type": "code",
      "source": [
        "classifier = Sequential()\n",
        "\n",
        "# Convolution Step 1\n",
        "classifier.add(Convolution2D(96, 11, strides = (4, 4), padding = 'valid', input_shape=(224, 224, 3), activation = 'relu'))\n",
        "\n",
        "# Max Pooling Step 1\n",
        "classifier.add(MaxPooling2D(pool_size = (2, 2), strides = (2, 2), padding = 'valid'))\n",
        "classifier.add(BatchNormalization())\n",
        "\n",
        "# Convolution Step 2\n",
        "classifier.add(Convolution2D(256, 11, strides = (1, 1), padding='valid', activation = 'relu'))\n",
        "\n",
        "# Max Pooling Step 2\n",
        "classifier.add(MaxPooling2D(pool_size = (2, 2), strides = (2, 2), padding='valid'))\n",
        "classifier.add(BatchNormalization())\n",
        "\n",
        "# Convolution Step 3\n",
        "classifier.add(Convolution2D(384, 3, strides = (1, 1), padding='valid', activation = 'relu'))\n",
        "classifier.add(BatchNormalization())\n",
        "\n",
        "# Convolution Step 4\n",
        "classifier.add(Convolution2D(384, 3, strides = (1, 1), padding='valid', activation = 'relu'))\n",
        "classifier.add(BatchNormalization())\n",
        "\n",
        "# Convolution Step 5\n",
        "classifier.add(Convolution2D(256, 3, strides=(1,1), padding='valid', activation = 'relu'))\n",
        "\n",
        "# Max Pooling Step 3\n",
        "classifier.add(MaxPooling2D(pool_size = (2, 2), strides = (2, 2), padding = 'valid'))\n",
        "classifier.add(BatchNormalization())\n",
        "\n",
        "# Flattening Step\n",
        "classifier.add(Flatten())\n",
        "\n",
        "# Full Connection Step\n",
        "classifier.add(Dense(units = 4096, activation = 'relu'))\n",
        "classifier.add(Dropout(0.4))\n",
        "classifier.add(BatchNormalization())\n",
        "classifier.add(Dense(units = 4096, activation = 'relu'))\n",
        "classifier.add(Dropout(0.4))\n",
        "classifier.add(BatchNormalization())\n",
        "classifier.add(Dense(units = 1000, activation = 'relu'))\n",
        "classifier.add(Dropout(0.2))\n",
        "classifier.add(BatchNormalization())\n",
        "classifier.add(Dense(units = 38, activation = 'softmax'))\n",
        "print(classifier.summary())"
      ],
      "metadata": {
        "colab": {
          "base_uri": "https://localhost:8080/"
        },
        "id": "utTFiGRH4fe6",
        "outputId": "81a376bd-5ba2-4c64-f3ae-098597a4e8c0"
      },
      "execution_count": null,
      "outputs": [
        {
          "output_type": "stream",
          "name": "stdout",
          "text": [
            "Model: \"sequential_1\"\n",
            "_________________________________________________________________\n",
            " Layer (type)                Output Shape              Param #   \n",
            "=================================================================\n",
            " conv2d_5 (Conv2D)           (None, 54, 54, 96)        34944     \n",
            "                                                                 \n",
            " max_pooling2d_3 (MaxPooling  (None, 27, 27, 96)       0         \n",
            " 2D)                                                             \n",
            "                                                                 \n",
            " batch_normalization_8 (Batc  (None, 27, 27, 96)       384       \n",
            " hNormalization)                                                 \n",
            "                                                                 \n",
            " conv2d_6 (Conv2D)           (None, 17, 17, 256)       2973952   \n",
            "                                                                 \n",
            " max_pooling2d_4 (MaxPooling  (None, 8, 8, 256)        0         \n",
            " 2D)                                                             \n",
            "                                                                 \n",
            " batch_normalization_9 (Batc  (None, 8, 8, 256)        1024      \n",
            " hNormalization)                                                 \n",
            "                                                                 \n",
            " conv2d_7 (Conv2D)           (None, 6, 6, 384)         885120    \n",
            "                                                                 \n",
            " batch_normalization_10 (Bat  (None, 6, 6, 384)        1536      \n",
            " chNormalization)                                                \n",
            "                                                                 \n",
            " conv2d_8 (Conv2D)           (None, 4, 4, 384)         1327488   \n",
            "                                                                 \n",
            " batch_normalization_11 (Bat  (None, 4, 4, 384)        1536      \n",
            " chNormalization)                                                \n",
            "                                                                 \n",
            " conv2d_9 (Conv2D)           (None, 2, 2, 256)         884992    \n",
            "                                                                 \n",
            " max_pooling2d_5 (MaxPooling  (None, 1, 1, 256)        0         \n",
            " 2D)                                                             \n",
            "                                                                 \n",
            " batch_normalization_12 (Bat  (None, 1, 1, 256)        1024      \n",
            " chNormalization)                                                \n",
            "                                                                 \n",
            " flatten_1 (Flatten)         (None, 256)               0         \n",
            "                                                                 \n",
            " dense_4 (Dense)             (None, 4096)              1052672   \n",
            "                                                                 \n",
            " dropout_3 (Dropout)         (None, 4096)              0         \n",
            "                                                                 \n",
            " batch_normalization_13 (Bat  (None, 4096)             16384     \n",
            " chNormalization)                                                \n",
            "                                                                 \n",
            " dense_5 (Dense)             (None, 4096)              16781312  \n",
            "                                                                 \n",
            " dropout_4 (Dropout)         (None, 4096)              0         \n",
            "                                                                 \n",
            " batch_normalization_14 (Bat  (None, 4096)             16384     \n",
            " chNormalization)                                                \n",
            "                                                                 \n",
            " dense_6 (Dense)             (None, 1000)              4097000   \n",
            "                                                                 \n",
            " dropout_5 (Dropout)         (None, 1000)              0         \n",
            "                                                                 \n",
            " batch_normalization_15 (Bat  (None, 1000)             4000      \n",
            " chNormalization)                                                \n",
            "                                                                 \n",
            " dense_7 (Dense)             (None, 38)                38038     \n",
            "                                                                 \n",
            "=================================================================\n",
            "Total params: 28,117,790\n",
            "Trainable params: 28,096,654\n",
            "Non-trainable params: 21,136\n",
            "_________________________________________________________________\n",
            "None\n"
          ]
        }
      ]
    },
    {
      "cell_type": "markdown",
      "source": [
        "# **Importing Header Files**"
      ],
      "metadata": {
        "id": "2-GQWqCZyG4K"
      }
    },
    {
      "cell_type": "code",
      "source": [
        "!unzip \"/content/drive/MyDrive/best_weights_9.zip\" -d \"Weights\""
      ],
      "metadata": {
        "colab": {
          "base_uri": "https://localhost:8080/"
        },
        "id": "9IJI2_-m85sX",
        "outputId": "609f45c1-db20-4317-8f72-4fafc9630a3b"
      },
      "execution_count": null,
      "outputs": [
        {
          "output_type": "stream",
          "name": "stdout",
          "text": [
            "Archive:  /content/drive/MyDrive/best_weights_9.zip\n",
            "  inflating: Weights/best_weights_9.hdf5  \n"
          ]
        }
      ]
    },
    {
      "cell_type": "code",
      "source": [
        "classifier.load_weights('/content/PlantVillage-Dataset/Weights/best_weights_9.hdf5')"
      ],
      "metadata": {
        "id": "HD8fsLgp9JDV"
      },
      "execution_count": null,
      "outputs": []
    },
    {
      "cell_type": "markdown",
      "source": [
        "# **Checking Layers**"
      ],
      "metadata": {
        "id": "yKyM76TGyMMN"
      }
    },
    {
      "cell_type": "code",
      "source": [
        "from keras import layers\n",
        "for i, layer in enumerate(classifier.layers):\n",
        "   print(i, layer.name)"
      ],
      "metadata": {
        "colab": {
          "base_uri": "https://localhost:8080/"
        },
        "id": "P3RgMJxz9S7k",
        "outputId": "23ec6939-064d-4e6a-a37b-2730e72d02ae"
      },
      "execution_count": null,
      "outputs": [
        {
          "output_type": "stream",
          "name": "stdout",
          "text": [
            "0 conv2d_5\n",
            "1 max_pooling2d_3\n",
            "2 batch_normalization_8\n",
            "3 conv2d_6\n",
            "4 max_pooling2d_4\n",
            "5 batch_normalization_9\n",
            "6 conv2d_7\n",
            "7 batch_normalization_10\n",
            "8 conv2d_8\n",
            "9 batch_normalization_11\n",
            "10 conv2d_9\n",
            "11 max_pooling2d_5\n",
            "12 batch_normalization_12\n",
            "13 flatten_1\n",
            "14 dense_4\n",
            "15 dropout_3\n",
            "16 batch_normalization_13\n",
            "17 dense_5\n",
            "18 dropout_4\n",
            "19 batch_normalization_14\n",
            "20 dense_6\n",
            "21 dropout_5\n",
            "22 batch_normalization_15\n",
            "23 dense_7\n"
          ]
        }
      ]
    },
    {
      "cell_type": "code",
      "source": [
        "print(\"Freezed layers:\")\n",
        "for i, layer in enumerate(classifier.layers[:20]):\n",
        "    print(i, layer.name)\n",
        "    layer.trainable = False"
      ],
      "metadata": {
        "colab": {
          "base_uri": "https://localhost:8080/"
        },
        "id": "cTjeTY569XnP",
        "outputId": "7058b4ec-798b-4885-95a3-afe3eb210af3"
      },
      "execution_count": null,
      "outputs": [
        {
          "output_type": "stream",
          "name": "stdout",
          "text": [
            "Freezed layers:\n",
            "0 conv2d_5\n",
            "1 max_pooling2d_3\n",
            "2 batch_normalization_8\n",
            "3 conv2d_6\n",
            "4 max_pooling2d_4\n",
            "5 batch_normalization_9\n",
            "6 conv2d_7\n",
            "7 batch_normalization_10\n",
            "8 conv2d_8\n",
            "9 batch_normalization_11\n",
            "10 conv2d_9\n",
            "11 max_pooling2d_5\n",
            "12 batch_normalization_12\n",
            "13 flatten_1\n",
            "14 dense_4\n",
            "15 dropout_3\n",
            "16 batch_normalization_13\n",
            "17 dense_5\n",
            "18 dropout_4\n",
            "19 batch_normalization_14\n"
          ]
        }
      ]
    },
    {
      "cell_type": "code",
      "source": [
        "classifier.summary()"
      ],
      "metadata": {
        "colab": {
          "base_uri": "https://localhost:8080/"
        },
        "id": "d1e7ndu39bA1",
        "outputId": "0e434655-f38d-4655-d3ee-7365787a484d"
      },
      "execution_count": null,
      "outputs": [
        {
          "output_type": "stream",
          "name": "stdout",
          "text": [
            "Model: \"sequential_1\"\n",
            "_________________________________________________________________\n",
            " Layer (type)                Output Shape              Param #   \n",
            "=================================================================\n",
            " conv2d_5 (Conv2D)           (None, 54, 54, 96)        34944     \n",
            "                                                                 \n",
            " max_pooling2d_3 (MaxPooling  (None, 27, 27, 96)       0         \n",
            " 2D)                                                             \n",
            "                                                                 \n",
            " batch_normalization_8 (Batc  (None, 27, 27, 96)       384       \n",
            " hNormalization)                                                 \n",
            "                                                                 \n",
            " conv2d_6 (Conv2D)           (None, 17, 17, 256)       2973952   \n",
            "                                                                 \n",
            " max_pooling2d_4 (MaxPooling  (None, 8, 8, 256)        0         \n",
            " 2D)                                                             \n",
            "                                                                 \n",
            " batch_normalization_9 (Batc  (None, 8, 8, 256)        1024      \n",
            " hNormalization)                                                 \n",
            "                                                                 \n",
            " conv2d_7 (Conv2D)           (None, 6, 6, 384)         885120    \n",
            "                                                                 \n",
            " batch_normalization_10 (Bat  (None, 6, 6, 384)        1536      \n",
            " chNormalization)                                                \n",
            "                                                                 \n",
            " conv2d_8 (Conv2D)           (None, 4, 4, 384)         1327488   \n",
            "                                                                 \n",
            " batch_normalization_11 (Bat  (None, 4, 4, 384)        1536      \n",
            " chNormalization)                                                \n",
            "                                                                 \n",
            " conv2d_9 (Conv2D)           (None, 2, 2, 256)         884992    \n",
            "                                                                 \n",
            " max_pooling2d_5 (MaxPooling  (None, 1, 1, 256)        0         \n",
            " 2D)                                                             \n",
            "                                                                 \n",
            " batch_normalization_12 (Bat  (None, 1, 1, 256)        1024      \n",
            " chNormalization)                                                \n",
            "                                                                 \n",
            " flatten_1 (Flatten)         (None, 256)               0         \n",
            "                                                                 \n",
            " dense_4 (Dense)             (None, 4096)              1052672   \n",
            "                                                                 \n",
            " dropout_3 (Dropout)         (None, 4096)              0         \n",
            "                                                                 \n",
            " batch_normalization_13 (Bat  (None, 4096)             16384     \n",
            " chNormalization)                                                \n",
            "                                                                 \n",
            " dense_5 (Dense)             (None, 4096)              16781312  \n",
            "                                                                 \n",
            " dropout_4 (Dropout)         (None, 4096)              0         \n",
            "                                                                 \n",
            " batch_normalization_14 (Bat  (None, 4096)             16384     \n",
            " chNormalization)                                                \n",
            "                                                                 \n",
            " dense_6 (Dense)             (None, 1000)              4097000   \n",
            "                                                                 \n",
            " dropout_5 (Dropout)         (None, 1000)              0         \n",
            "                                                                 \n",
            " batch_normalization_15 (Bat  (None, 1000)             4000      \n",
            " chNormalization)                                                \n",
            "                                                                 \n",
            " dense_7 (Dense)             (None, 38)                38038     \n",
            "                                                                 \n",
            "=================================================================\n",
            "Total params: 28,117,790\n",
            "Trainable params: 4,137,038\n",
            "Non-trainable params: 23,980,752\n",
            "_________________________________________________________________\n"
          ]
        }
      ]
    },
    {
      "cell_type": "code",
      "source": [
        "import tensorflow as tf\n",
        "\n",
        "from keras import optimizers\n",
        "classifier.compile(optimizer=tf.keras.optimizers.SGD(lr=0.001, momentum=0.9, decay=0.005),\n",
        "              loss='categorical_crossentropy',\n",
        "              metrics=['accuracy'])"
      ],
      "metadata": {
        "colab": {
          "base_uri": "https://localhost:8080/"
        },
        "id": "NvXO2LGI9nBe",
        "outputId": "3b27830f-1c60-4cd6-a423-6df403b58ebb"
      },
      "execution_count": null,
      "outputs": [
        {
          "output_type": "stream",
          "name": "stderr",
          "text": [
            "/usr/local/lib/python3.7/dist-packages/keras/optimizer_v2/gradient_descent.py:102: UserWarning: The `lr` argument is deprecated, use `learning_rate` instead.\n",
            "  super(SGD, self).__init__(name, **kwargs)\n"
          ]
        }
      ]
    },
    {
      "cell_type": "markdown",
      "source": [
        "# **Extracting Data From Folder**"
      ],
      "metadata": {
        "id": "y8Um2GbYySu5"
      }
    },
    {
      "cell_type": "code",
      "source": [
        "from keras.preprocessing.image import ImageDataGenerator\n",
        "\n",
        "train_datagen = ImageDataGenerator(rescale=1./255,\n",
        "                                   shear_range=0.2,\n",
        "                                   zoom_range=0.2,\n",
        "                                   width_shift_range=0.2,\n",
        "                                   height_shift_range=0.2,\n",
        "                                   fill_mode='nearest')\n",
        "\n",
        "valid_datagen = ImageDataGenerator(rescale=1./255)\n",
        "\n",
        "batch_size = 128\n",
        "base_dir = \"/content/PlantVillage-Dataset/data_distribution_for_SVM\"\n",
        "\n",
        "training_set = train_datagen.flow_from_directory(base_dir+'/train',\n",
        "                                                 target_size=(224, 224),\n",
        "                                                 batch_size=batch_size,\n",
        "                                                 class_mode='categorical')\n",
        "\n",
        "valid_set = valid_datagen.flow_from_directory(base_dir+'/test',\n",
        "                                            target_size=(224, 224),\n",
        "                                            batch_size=batch_size,\n",
        "                                            class_mode='categorical')"
      ],
      "metadata": {
        "colab": {
          "base_uri": "https://localhost:8080/"
        },
        "id": "1N4WE8Hk99m2",
        "outputId": "39c2f80a-69b9-4de3-fcdc-28c48989c5a3"
      },
      "execution_count": null,
      "outputs": [
        {
          "output_type": "stream",
          "name": "stdout",
          "text": [
            "Found 8751 images belonging to 38 classes.\n",
            "Found 10547 images belonging to 38 classes.\n"
          ]
        }
      ]
    },
    {
      "cell_type": "code",
      "source": [
        "class_dict = training_set.class_indices\n",
        "print(class_dict)"
      ],
      "metadata": {
        "colab": {
          "base_uri": "https://localhost:8080/"
        },
        "id": "HNJuryV9-q-0",
        "outputId": "24ef2961-9215-4f44-f772-69eae834d06d"
      },
      "execution_count": null,
      "outputs": [
        {
          "output_type": "stream",
          "name": "stdout",
          "text": [
            "{'0': 0, '1': 1, '10': 2, '11': 3, '12': 4, '13': 5, '14': 6, '15': 7, '16': 8, '17': 9, '18': 10, '19': 11, '2': 12, '20': 13, '21': 14, '22': 15, '23': 16, '24': 17, '25': 18, '26': 19, '27': 20, '28': 21, '29': 22, '3': 23, '30': 24, '31': 25, '32': 26, '33': 27, '34': 28, '35': 29, '36': 30, '37': 31, '4': 32, '5': 33, '6': 34, '7': 35, '8': 36, '9': 37}\n"
          ]
        }
      ]
    },
    {
      "cell_type": "code",
      "source": [
        "li = list(class_dict.keys())\n",
        "print(li)"
      ],
      "metadata": {
        "colab": {
          "base_uri": "https://localhost:8080/"
        },
        "id": "ik9LECHm-x8_",
        "outputId": "183f69b2-9e94-4f5b-a1d6-cec02aa6350e"
      },
      "execution_count": null,
      "outputs": [
        {
          "output_type": "stream",
          "name": "stdout",
          "text": [
            "['0', '1', '10', '11', '12', '13', '14', '15', '16', '17', '18', '19', '2', '20', '21', '22', '23', '24', '25', '26', '27', '28', '29', '3', '30', '31', '32', '33', '34', '35', '36', '37', '4', '5', '6', '7', '8', '9']\n"
          ]
        }
      ]
    },
    {
      "cell_type": "code",
      "source": [
        "train_num = training_set.samples\n",
        "valid_num = valid_set.samples"
      ],
      "metadata": {
        "id": "lbFRzTKn-3W0"
      },
      "execution_count": null,
      "outputs": []
    },
    {
      "cell_type": "code",
      "source": [
        "!unzip \"/content/drive/MyDrive/AlexNetModel.zip\" -d \"save-model\""
      ],
      "metadata": {
        "colab": {
          "base_uri": "https://localhost:8080/"
        },
        "id": "91m-mPytDL4r",
        "outputId": "48e6c22e-8212-47aa-dd53-d4fbd03cde74"
      },
      "execution_count": null,
      "outputs": [
        {
          "output_type": "stream",
          "name": "stdout",
          "text": [
            "Archive:  /content/drive/MyDrive/AlexNetModel.zip\n",
            "  inflating: save-model/AlexNetModel.hdf5  \n"
          ]
        }
      ]
    },
    {
      "cell_type": "markdown",
      "source": [
        "# **Training Model**"
      ],
      "metadata": {
        "id": "jmIOqUNQyZcl"
      }
    },
    {
      "cell_type": "code",
      "source": [
        "from keras.callbacks import ModelCheckpoint\n",
        "weightpath = \"/content/PlantVillage-Dataset/Weights/best_weights_9.hdf5\"\n",
        "checkpoint = ModelCheckpoint(weightpath, monitor='val_accuracy', verbose=1, save_best_only=True, save_weights_only=True, mode='max')\n",
        "callbacks_list = [checkpoint]\n",
        "\n",
        "#fitting images to CNN\n",
        "history = classifier.fit_generator(training_set,\n",
        "                         steps_per_epoch=train_num//batch_size,\n",
        "                         validation_data=valid_set,\n",
        "                         epochs=25,\n",
        "                         validation_steps=valid_num//batch_size,\n",
        "                         callbacks=callbacks_list)\n",
        "#saving model\n",
        "filepath = \"/content/PlantVillage-Dataset/save-model/AlexNetModel.hdf5\"\n",
        "classifier.save(filepath)"
      ],
      "metadata": {
        "colab": {
          "base_uri": "https://localhost:8080/"
        },
        "id": "Anro4EgR_BGW",
        "outputId": "05c4ba41-6dad-4cd6-813c-66d9632bc96f"
      },
      "execution_count": null,
      "outputs": [
        {
          "output_type": "stream",
          "name": "stderr",
          "text": [
            "/usr/local/lib/python3.7/dist-packages/ipykernel_launcher.py:12: UserWarning: `Model.fit_generator` is deprecated and will be removed in a future version. Please use `Model.fit`, which supports generators.\n",
            "  if sys.path[0] == '':\n"
          ]
        },
        {
          "output_type": "stream",
          "name": "stdout",
          "text": [
            "Epoch 1/25\n",
            "68/68 [==============================] - ETA: 0s - loss: 1.5114 - accuracy: 0.6411\n",
            "Epoch 00001: val_accuracy improved from -inf to 0.75457, saving model to /content/PlantVillage-Dataset/Weights/best_weights_9.hdf5\n",
            "68/68 [==============================] - 142s 2s/step - loss: 1.5114 - accuracy: 0.6411 - val_loss: 1.1128 - val_accuracy: 0.7546\n",
            "Epoch 2/25\n",
            "68/68 [==============================] - ETA: 0s - loss: 0.9814 - accuracy: 0.7457\n",
            "Epoch 00002: val_accuracy improved from 0.75457 to 0.83108, saving model to /content/PlantVillage-Dataset/Weights/best_weights_9.hdf5\n",
            "68/68 [==============================] - 143s 2s/step - loss: 0.9814 - accuracy: 0.7457 - val_loss: 0.7861 - val_accuracy: 0.8311\n",
            "Epoch 3/25\n",
            "68/68 [==============================] - ETA: 0s - loss: 0.7546 - accuracy: 0.8039\n",
            "Epoch 00003: val_accuracy improved from 0.83108 to 0.86004, saving model to /content/PlantVillage-Dataset/Weights/best_weights_9.hdf5\n",
            "68/68 [==============================] - 148s 2s/step - loss: 0.7546 - accuracy: 0.8039 - val_loss: 0.6323 - val_accuracy: 0.8600\n",
            "Epoch 4/25\n",
            "68/68 [==============================] - ETA: 0s - loss: 0.6387 - accuracy: 0.8357\n",
            "Epoch 00004: val_accuracy improved from 0.86004 to 0.87919, saving model to /content/PlantVillage-Dataset/Weights/best_weights_9.hdf5\n",
            "68/68 [==============================] - 147s 2s/step - loss: 0.6387 - accuracy: 0.8357 - val_loss: 0.5378 - val_accuracy: 0.8792\n",
            "Epoch 5/25\n",
            "68/68 [==============================] - ETA: 0s - loss: 0.5798 - accuracy: 0.8431\n",
            "Epoch 00005: val_accuracy improved from 0.87919 to 0.89120, saving model to /content/PlantVillage-Dataset/Weights/best_weights_9.hdf5\n",
            "68/68 [==============================] - 129s 2s/step - loss: 0.5798 - accuracy: 0.8431 - val_loss: 0.4734 - val_accuracy: 0.8912\n",
            "Epoch 6/25\n",
            "68/68 [==============================] - ETA: 0s - loss: 0.5125 - accuracy: 0.8583\n",
            "Epoch 00006: val_accuracy improved from 0.89120 to 0.89834, saving model to /content/PlantVillage-Dataset/Weights/best_weights_9.hdf5\n",
            "68/68 [==============================] - 144s 2s/step - loss: 0.5125 - accuracy: 0.8583 - val_loss: 0.4248 - val_accuracy: 0.8983\n",
            "Epoch 7/25\n",
            "68/68 [==============================] - ETA: 0s - loss: 0.4853 - accuracy: 0.8713\n",
            "Epoch 00007: val_accuracy improved from 0.89834 to 0.90434, saving model to /content/PlantVillage-Dataset/Weights/best_weights_9.hdf5\n",
            "68/68 [==============================] - 129s 2s/step - loss: 0.4853 - accuracy: 0.8713 - val_loss: 0.3899 - val_accuracy: 0.9043\n",
            "Epoch 8/25\n",
            "68/68 [==============================] - ETA: 0s - loss: 0.4540 - accuracy: 0.8741\n",
            "Epoch 00008: val_accuracy improved from 0.90434 to 0.90978, saving model to /content/PlantVillage-Dataset/Weights/best_weights_9.hdf5\n",
            "68/68 [==============================] - 144s 2s/step - loss: 0.4540 - accuracy: 0.8741 - val_loss: 0.3599 - val_accuracy: 0.9098\n",
            "Epoch 9/25\n",
            "68/68 [==============================] - ETA: 0s - loss: 0.4280 - accuracy: 0.8825\n",
            "Epoch 00009: val_accuracy improved from 0.90978 to 0.91406, saving model to /content/PlantVillage-Dataset/Weights/best_weights_9.hdf5\n",
            "68/68 [==============================] - 145s 2s/step - loss: 0.4280 - accuracy: 0.8825 - val_loss: 0.3353 - val_accuracy: 0.9141\n",
            "Epoch 10/25\n",
            "68/68 [==============================] - ETA: 0s - loss: 0.4041 - accuracy: 0.8854\n",
            "Epoch 00010: val_accuracy improved from 0.91406 to 0.91606, saving model to /content/PlantVillage-Dataset/Weights/best_weights_9.hdf5\n",
            "68/68 [==============================] - 144s 2s/step - loss: 0.4041 - accuracy: 0.8854 - val_loss: 0.3178 - val_accuracy: 0.9161\n",
            "Epoch 11/25\n",
            "68/68 [==============================] - ETA: 0s - loss: 0.3970 - accuracy: 0.8896\n",
            "Epoch 00011: val_accuracy improved from 0.91606 to 0.91978, saving model to /content/PlantVillage-Dataset/Weights/best_weights_9.hdf5\n",
            "68/68 [==============================] - 127s 2s/step - loss: 0.3970 - accuracy: 0.8896 - val_loss: 0.2991 - val_accuracy: 0.9198\n",
            "Epoch 12/25\n",
            "68/68 [==============================] - ETA: 0s - loss: 0.3787 - accuracy: 0.8898\n",
            "Epoch 00012: val_accuracy improved from 0.91978 to 0.92207, saving model to /content/PlantVillage-Dataset/Weights/best_weights_9.hdf5\n",
            "68/68 [==============================] - 127s 2s/step - loss: 0.3787 - accuracy: 0.8898 - val_loss: 0.2835 - val_accuracy: 0.9221\n",
            "Epoch 13/25\n",
            "68/68 [==============================] - ETA: 0s - loss: 0.3787 - accuracy: 0.8906\n",
            "Epoch 00013: val_accuracy improved from 0.92207 to 0.92426, saving model to /content/PlantVillage-Dataset/Weights/best_weights_9.hdf5\n",
            "68/68 [==============================] - 145s 2s/step - loss: 0.3787 - accuracy: 0.8906 - val_loss: 0.2715 - val_accuracy: 0.9243\n",
            "Epoch 14/25\n",
            "68/68 [==============================] - ETA: 0s - loss: 0.3661 - accuracy: 0.8947\n",
            "Epoch 00014: val_accuracy improved from 0.92426 to 0.92712, saving model to /content/PlantVillage-Dataset/Weights/best_weights_9.hdf5\n",
            "68/68 [==============================] - 146s 2s/step - loss: 0.3661 - accuracy: 0.8947 - val_loss: 0.2587 - val_accuracy: 0.9271\n",
            "Epoch 15/25\n",
            "68/68 [==============================] - ETA: 0s - loss: 0.3500 - accuracy: 0.8983\n",
            "Epoch 00015: val_accuracy improved from 0.92712 to 0.92826, saving model to /content/PlantVillage-Dataset/Weights/best_weights_9.hdf5\n",
            "68/68 [==============================] - 148s 2s/step - loss: 0.3500 - accuracy: 0.8983 - val_loss: 0.2504 - val_accuracy: 0.9283\n",
            "Epoch 16/25\n",
            "68/68 [==============================] - ETA: 0s - loss: 0.3454 - accuracy: 0.8989\n",
            "Epoch 00016: val_accuracy improved from 0.92826 to 0.93016, saving model to /content/PlantVillage-Dataset/Weights/best_weights_9.hdf5\n",
            "68/68 [==============================] - 132s 2s/step - loss: 0.3454 - accuracy: 0.8989 - val_loss: 0.2413 - val_accuracy: 0.9302\n",
            "Epoch 17/25\n",
            "68/68 [==============================] - ETA: 0s - loss: 0.3353 - accuracy: 0.9020\n",
            "Epoch 00017: val_accuracy improved from 0.93016 to 0.93236, saving model to /content/PlantVillage-Dataset/Weights/best_weights_9.hdf5\n",
            "68/68 [==============================] - 132s 2s/step - loss: 0.3353 - accuracy: 0.9020 - val_loss: 0.2318 - val_accuracy: 0.9324\n",
            "Epoch 18/25\n",
            "68/68 [==============================] - ETA: 0s - loss: 0.3274 - accuracy: 0.9080\n",
            "Epoch 00018: val_accuracy improved from 0.93236 to 0.93369, saving model to /content/PlantVillage-Dataset/Weights/best_weights_9.hdf5\n",
            "68/68 [==============================] - 144s 2s/step - loss: 0.3274 - accuracy: 0.9080 - val_loss: 0.2235 - val_accuracy: 0.9337\n",
            "Epoch 19/25\n",
            "68/68 [==============================] - ETA: 0s - loss: 0.3261 - accuracy: 0.9066\n",
            "Epoch 00019: val_accuracy improved from 0.93369 to 0.93474, saving model to /content/PlantVillage-Dataset/Weights/best_weights_9.hdf5\n",
            "68/68 [==============================] - 144s 2s/step - loss: 0.3261 - accuracy: 0.9066 - val_loss: 0.2180 - val_accuracy: 0.9347\n",
            "Epoch 20/25\n",
            "68/68 [==============================] - ETA: 0s - loss: 0.3205 - accuracy: 0.9039\n",
            "Epoch 00020: val_accuracy improved from 0.93474 to 0.93702, saving model to /content/PlantVillage-Dataset/Weights/best_weights_9.hdf5\n",
            "68/68 [==============================] - 127s 2s/step - loss: 0.3205 - accuracy: 0.9039 - val_loss: 0.2114 - val_accuracy: 0.9370\n",
            "Epoch 21/25\n",
            "68/68 [==============================] - ETA: 0s - loss: 0.3074 - accuracy: 0.9084\n",
            "Epoch 00021: val_accuracy improved from 0.93702 to 0.93798, saving model to /content/PlantVillage-Dataset/Weights/best_weights_9.hdf5\n",
            "68/68 [==============================] - 129s 2s/step - loss: 0.3074 - accuracy: 0.9084 - val_loss: 0.2062 - val_accuracy: 0.9380\n",
            "Epoch 22/25\n",
            "68/68 [==============================] - ETA: 0s - loss: 0.3125 - accuracy: 0.9120\n",
            "Epoch 00022: val_accuracy improved from 0.93798 to 0.93883, saving model to /content/PlantVillage-Dataset/Weights/best_weights_9.hdf5\n",
            "68/68 [==============================] - 146s 2s/step - loss: 0.3125 - accuracy: 0.9120 - val_loss: 0.2001 - val_accuracy: 0.9388\n",
            "Epoch 23/25\n",
            "68/68 [==============================] - ETA: 0s - loss: 0.3029 - accuracy: 0.9136\n",
            "Epoch 00023: val_accuracy improved from 0.93883 to 0.94074, saving model to /content/PlantVillage-Dataset/Weights/best_weights_9.hdf5\n",
            "68/68 [==============================] - 145s 2s/step - loss: 0.3029 - accuracy: 0.9136 - val_loss: 0.1956 - val_accuracy: 0.9407\n",
            "Epoch 24/25\n",
            "68/68 [==============================] - ETA: 0s - loss: 0.3051 - accuracy: 0.9105\n",
            "Epoch 00024: val_accuracy improved from 0.94074 to 0.94131, saving model to /content/PlantVillage-Dataset/Weights/best_weights_9.hdf5\n",
            "68/68 [==============================] - 149s 2s/step - loss: 0.3051 - accuracy: 0.9105 - val_loss: 0.1903 - val_accuracy: 0.9413\n",
            "Epoch 25/25\n",
            "68/68 [==============================] - ETA: 0s - loss: 0.3049 - accuracy: 0.9122\n",
            "Epoch 00025: val_accuracy improved from 0.94131 to 0.94179, saving model to /content/PlantVillage-Dataset/Weights/best_weights_9.hdf5\n",
            "68/68 [==============================] - 128s 2s/step - loss: 0.3049 - accuracy: 0.9122 - val_loss: 0.1870 - val_accuracy: 0.9418\n"
          ]
        }
      ]
    },
    {
      "cell_type": "code",
      "source": [
        "import matplotlib.pyplot as plt\n",
        "import seaborn as sns\n",
        "sns.set()\n",
        "\n",
        "\n",
        "plt.figure()\n",
        "loss = history.history['loss']\n",
        "epochs = range(1, len(loss) + 1)\n",
        "val_loss = history.history['val_loss']\n",
        "plt.plot(epochs, loss, color='pink', label='Training Loss')\n",
        "plt.plot(epochs, val_loss, color='red', label='Validation Loss')\n",
        "plt.title('Training and Validation Loss')\n",
        "plt.xlabel('Epoch')\n",
        "plt.ylabel('Loss')\n",
        "plt.legend()\n",
        "\n",
        "plt.show()"
      ],
      "metadata": {
        "colab": {
          "base_uri": "https://localhost:8080/",
          "height": 301
        },
        "id": "iTDp5F4a0-wT",
        "outputId": "9222b658-c03b-42e8-ac93-6d28390427d6"
      },
      "execution_count": null,
      "outputs": [
        {
          "output_type": "display_data",
          "data": {
            "image/png": "[encoded data removed]",
            "text/plain": [
              "<Figure size 432x288 with 1 Axes>"
            ]
          },
          "metadata": {}
        }
      ]
    },
    {
      "cell_type": "code",
      "source": [
        "from keras.preprocessing import image\n",
        "import numpy as np\n",
        "image_path = \"/content/PlantVillage-Dataset/data_distribution_for_SVM/test/1/038dec47-6ec1-43e8-91d1-8b3d47c6f1e4.JPG\"\n",
        "new_img = image.load_img(image_path, target_size=(224, 224))\n",
        "img = image.img_to_array(new_img)\n",
        "img = np.expand_dims(img, axis=0)\n",
        "img = img/255\n",
        "\n",
        "print(\"Following is our prediction:\")\n",
        "prediction = classifier.predict(img)\n",
        "\n",
        "d = prediction.flatten()\n",
        "j = d.max()\n",
        "for index,item in enumerate(d):\n",
        "    if item == j:\n",
        "        class_name = li[index]\n",
        "     \n",
        "plt.figure(figsize = (4,4))\n",
        "plt.imshow(new_img)\n",
        "plt.axis('off')\n",
        "plt.title(class_name)\n",
        "plt.show()"
      ],
      "metadata": {
        "colab": {
          "base_uri": "https://localhost:8080/",
          "height": 281
        },
        "id": "BYtDUbn115Hg",
        "outputId": "70befe85-b9b3-4732-b6b6-730dbfd493e4"
      },
      "execution_count": null,
      "outputs": [
        {
          "output_type": "stream",
          "name": "stdout",
          "text": [
            "Following is our prediction:\n"
          ]
        },
        {
          "output_type": "display_data",
          "data": {
            "image/png": "[encoded data removed]",
            "text/plain": [
              "<Figure size 288x288 with 1 Axes>"
            ]
          },
          "metadata": {}
        }
      ]
    },
    {
      "cell_type": "code",
      "source": [
        "tf.keras.models.save_model(\n",
        "    classifier, \"/content/Model\", overwrite=True, include_optimizer=True, save_format=None,\n",
        "    signatures=None, options=None, save_traces=True\n",
        ")"
      ],
      "metadata": {
        "colab": {
          "base_uri": "https://localhost:8080/"
        },
        "id": "e5XJoFlw5QWE",
        "outputId": "9437ecf3-6f00-44e7-8eb0-27f637111bb7"
      },
      "execution_count": null,
      "outputs": [
        {
          "output_type": "stream",
          "name": "stdout",
          "text": [
            "INFO:tensorflow:Assets written to: /content/Model/assets\n"
          ]
        }
      ]
    }
  ]
}